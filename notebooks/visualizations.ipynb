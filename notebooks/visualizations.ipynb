{
 "cells": [
  {
   "attachments": {},
   "cell_type": "markdown",
   "metadata": {},
   "source": [
    "# Sentential Relation Prediction\n",
    "*LING 7800: Computational Models of Discourse*\n",
    "\n",
    "This ipynb is to visualize the results of our various models."
   ]
  },
  {
   "cell_type": "code",
   "execution_count": 55,
   "metadata": {},
   "outputs": [],
   "source": [
    "import pandas as pd\n",
    "import numpy as np\n",
    "import altair as alt\n",
    "\n",
    "from util import *"
   ]
  },
  {
   "cell_type": "code",
   "execution_count": 56,
   "metadata": {},
   "outputs": [
    {
     "name": "stdout",
     "output_type": "stream",
     "text": [
      "The autoreload extension is already loaded. To reload it, use:\n",
      "  %reload_ext autoreload\n"
     ]
    }
   ],
   "source": [
    "%load_ext autoreload\n",
    "%autoreload 2"
   ]
  },
  {
   "attachments": {},
   "cell_type": "markdown",
   "metadata": {},
   "source": [
    "### Graphing our results\n",
    "\n",
    "    Creating our data frame:"
   ]
  },
  {
   "cell_type": "code",
   "execution_count": 57,
   "metadata": {},
   "outputs": [
    {
     "data": {
      "text/html": [
       "<div>\n",
       "<style scoped>\n",
       "    .dataframe tbody tr th:only-of-type {\n",
       "        vertical-align: middle;\n",
       "    }\n",
       "\n",
       "    .dataframe tbody tr th {\n",
       "        vertical-align: top;\n",
       "    }\n",
       "\n",
       "    .dataframe thead th {\n",
       "        text-align: right;\n",
       "    }\n",
       "</style>\n",
       "<table border=\"1\" class=\"dataframe\">\n",
       "  <thead>\n",
       "    <tr style=\"text-align: right;\">\n",
       "      <th></th>\n",
       "      <th>model</th>\n",
       "      <th>epoch</th>\n",
       "      <th>accuracy</th>\n",
       "      <th>precision</th>\n",
       "      <th>recall</th>\n",
       "      <th>macro f1</th>\n",
       "      <th>f1</th>\n",
       "    </tr>\n",
       "  </thead>\n",
       "  <tbody>\n",
       "    <tr>\n",
       "      <th>0</th>\n",
       "      <td>Baseline</td>\n",
       "      <td>1.0</td>\n",
       "      <td>0.572988</td>\n",
       "      <td>0.550824</td>\n",
       "      <td>0.572988</td>\n",
       "      <td>0.431567</td>\n",
       "      <td>0.541218</td>\n",
       "    </tr>\n",
       "    <tr>\n",
       "      <th>1</th>\n",
       "      <td>Baseline</td>\n",
       "      <td>2.0</td>\n",
       "      <td>0.578291</td>\n",
       "      <td>0.596606</td>\n",
       "      <td>0.578291</td>\n",
       "      <td>0.483279</td>\n",
       "      <td>0.571692</td>\n",
       "    </tr>\n",
       "    <tr>\n",
       "      <th>2</th>\n",
       "      <td>Baseline</td>\n",
       "      <td>3.0</td>\n",
       "      <td>0.568309</td>\n",
       "      <td>0.571203</td>\n",
       "      <td>0.568309</td>\n",
       "      <td>0.477157</td>\n",
       "      <td>0.565131</td>\n",
       "    </tr>\n",
       "    <tr>\n",
       "      <th>3</th>\n",
       "      <td>Baseline</td>\n",
       "      <td>4.0</td>\n",
       "      <td>0.548035</td>\n",
       "      <td>0.542355</td>\n",
       "      <td>0.548035</td>\n",
       "      <td>0.459205</td>\n",
       "      <td>0.540959</td>\n",
       "    </tr>\n",
       "    <tr>\n",
       "      <th>4</th>\n",
       "      <td>Baseline</td>\n",
       "      <td>5.0</td>\n",
       "      <td>0.566126</td>\n",
       "      <td>0.547418</td>\n",
       "      <td>0.566126</td>\n",
       "      <td>0.452455</td>\n",
       "      <td>0.548344</td>\n",
       "    </tr>\n",
       "  </tbody>\n",
       "</table>\n",
       "</div>"
      ],
      "text/plain": [
       "      model  epoch  accuracy  precision    recall  macro f1        f1\n",
       "0  Baseline    1.0  0.572988   0.550824  0.572988  0.431567  0.541218\n",
       "1  Baseline    2.0  0.578291   0.596606  0.578291  0.483279  0.571692\n",
       "2  Baseline    3.0  0.568309   0.571203  0.568309  0.477157  0.565131\n",
       "3  Baseline    4.0  0.548035   0.542355  0.548035  0.459205  0.540959\n",
       "4  Baseline    5.0  0.566126   0.547418  0.566126  0.452455  0.548344"
      ]
     },
     "execution_count": 57,
     "metadata": {},
     "output_type": "execute_result"
    }
   ],
   "source": [
    "all_files = [\n",
    "    '../results/Baseline.csv',\n",
    "    '../results/PSRN.csv',\n",
    "    '../results/EWN.csv',\n",
    "    '../results/EWN tagged.csv',\n",
    "    '../results/PSRN tagged.csv',\n",
    "    '../results/Baseline tagged.csv',\n",
    "    '../results/DN tagged.csv',\n",
    "    '../results/EWN tagged no stopwords.csv',\n",
    "    '../results/PSRN tagged no stopwords.csv',\n",
    "    '../results/DN tagged no stopwords.csv',\n",
    "    '../results/Baseline tagged no stopwords.csv',\n",
    "]\n",
    "\n",
    "all_files_df = create_df(all_files)\n",
    "all_files_df.head()"
   ]
  },
  {
   "attachments": {},
   "cell_type": "markdown",
   "metadata": {},
   "source": [
    "### Line Chart with Custom Legend\n",
    "[https://altair-viz.github.io/gallery/line_chart_with_custom_legend.html](https://altair-viz.github.io/gallery/line_chart_with_custom_legend.html)\n",
    "\n",
    "    Change the metric variable to see the different metrics. Choose between 'accuracy', 'precision', 'recall', 'f1', 'macro f1'"
   ]
  },
  {
   "cell_type": "code",
   "execution_count": 58,
   "metadata": {},
   "outputs": [
    {
     "data": {
      "text/html": [
       "\n",
       "<div id=\"altair-viz-17b4559119b74687916e9454cd777949\"></div>\n",
       "<script type=\"text/javascript\">\n",
       "  var VEGA_DEBUG = (typeof VEGA_DEBUG == \"undefined\") ? {} : VEGA_DEBUG;\n",
       "  (function(spec, embedOpt){\n",
       "    let outputDiv = document.currentScript.previousElementSibling;\n",
       "    if (outputDiv.id !== \"altair-viz-17b4559119b74687916e9454cd777949\") {\n",
       "      outputDiv = document.getElementById(\"altair-viz-17b4559119b74687916e9454cd777949\");\n",
       "    }\n",
       "    const paths = {\n",
       "      \"vega\": \"https://cdn.jsdelivr.net/npm//vega@5?noext\",\n",
       "      \"vega-lib\": \"https://cdn.jsdelivr.net/npm//vega-lib?noext\",\n",
       "      \"vega-lite\": \"https://cdn.jsdelivr.net/npm//vega-lite@4.17.0?noext\",\n",
       "      \"vega-embed\": \"https://cdn.jsdelivr.net/npm//vega-embed@6?noext\",\n",
       "    };\n",
       "\n",
       "    function maybeLoadScript(lib, version) {\n",
       "      var key = `${lib.replace(\"-\", \"\")}_version`;\n",
       "      return (VEGA_DEBUG[key] == version) ?\n",
       "        Promise.resolve(paths[lib]) :\n",
       "        new Promise(function(resolve, reject) {\n",
       "          var s = document.createElement('script');\n",
       "          document.getElementsByTagName(\"head\")[0].appendChild(s);\n",
       "          s.async = true;\n",
       "          s.onload = () => {\n",
       "            VEGA_DEBUG[key] = version;\n",
       "            return resolve(paths[lib]);\n",
       "          };\n",
       "          s.onerror = () => reject(`Error loading script: ${paths[lib]}`);\n",
       "          s.src = paths[lib];\n",
       "        });\n",
       "    }\n",
       "\n",
       "    function showError(err) {\n",
       "      outputDiv.innerHTML = `<div class=\"error\" style=\"color:red;\">${err}</div>`;\n",
       "      throw err;\n",
       "    }\n",
       "\n",
       "    function displayChart(vegaEmbed) {\n",
       "      vegaEmbed(outputDiv, spec, embedOpt)\n",
       "        .catch(err => showError(`Javascript Error: ${err.message}<br>This usually means there's a typo in your chart specification. See the javascript console for the full traceback.`));\n",
       "    }\n",
       "\n",
       "    if(typeof define === \"function\" && define.amd) {\n",
       "      requirejs.config({paths});\n",
       "      require([\"vega-embed\"], displayChart, err => showError(`Error loading script: ${err.message}`));\n",
       "    } else {\n",
       "      maybeLoadScript(\"vega\", \"5\")\n",
       "        .then(() => maybeLoadScript(\"vega-lite\", \"4.17.0\"))\n",
       "        .then(() => maybeLoadScript(\"vega-embed\", \"6\"))\n",
       "        .catch(showError)\n",
       "        .then(() => displayChart(vegaEmbed));\n",
       "    }\n",
       "  })({\"config\": {\"view\": {\"continuousWidth\": 400, \"continuousHeight\": 300}}, \"layer\": [{\"mark\": \"line\", \"encoding\": {\"color\": {\"field\": \"model\", \"legend\": {\"title\": \"Model\"}, \"type\": \"nominal\"}, \"tooltip\": [{\"field\": \"model\", \"type\": \"nominal\"}, {\"field\": \"epoch\", \"type\": \"quantitative\"}, {\"field\": \"macro f1\", \"type\": \"quantitative\"}], \"x\": {\"field\": \"epoch\", \"type\": \"quantitative\"}, \"y\": {\"field\": \"macro f1\", \"type\": \"quantitative\"}}, \"selection\": {\"selector016\": {\"type\": \"interval\", \"bind\": \"scales\", \"encodings\": [\"x\", \"y\"]}}, \"width\": 500}, {\"mark\": \"circle\", \"encoding\": {\"color\": {\"field\": \"model\", \"legend\": {\"title\": \"Model\"}, \"type\": \"nominal\"}, \"x\": {\"field\": \"last_epoch['epoch']\", \"type\": \"quantitative\"}, \"y\": {\"field\": \"last_epoch['macro f1']\", \"type\": \"quantitative\"}}, \"transform\": [{\"filter\": \"(datum.metric === 'macro f1')\"}, {\"aggregate\": [{\"op\": \"argmax\", \"field\": \"epoch\", \"as\": \"last_epoch\"}], \"groupby\": [\"model\"]}], \"width\": 500}, {\"mark\": {\"type\": \"text\", \"align\": \"left\", \"dx\": 4}, \"encoding\": {\"color\": {\"field\": \"model\", \"legend\": {\"title\": \"Model\"}, \"type\": \"nominal\"}, \"text\": {\"field\": \"model\", \"type\": \"nominal\"}, \"x\": {\"field\": \"last_epoch['epoch']\", \"type\": \"quantitative\"}, \"y\": {\"field\": \"last_epoch['macro f1']\", \"type\": \"quantitative\"}}, \"transform\": [{\"filter\": \"(datum.metric === 'macro f1')\"}, {\"aggregate\": [{\"op\": \"argmax\", \"field\": \"epoch\", \"as\": \"last_epoch\"}], \"groupby\": [\"model\"]}], \"width\": 500}], \"data\": {\"name\": \"data-759875eb8d7e5122df525ac895314735\"}, \"encoding\": {\"x\": {\"title\": \"Epoch\"}, \"y\": {\"title\": \"Macro f1\"}}, \"title\": \"Macro f1 per Epoch\", \"$schema\": \"https://vega.github.io/schema/vega-lite/v4.17.0.json\", \"datasets\": {\"data-759875eb8d7e5122df525ac895314735\": [{\"model\": \"Baseline\", \"epoch\": 1.0, \"accuracy\": 0.5729881472239551, \"precision\": 0.550824251068989, \"recall\": 0.5729881472239551, \"macro f1\": 0.4315668905772694, \"f1\": 0.5412176223817634}, {\"model\": \"Baseline\", \"epoch\": 2.0, \"accuracy\": 0.5782907049282595, \"precision\": 0.596606312348719, \"recall\": 0.5782907049282595, \"macro f1\": 0.483278970457373, \"f1\": 0.5716915746126902}, {\"model\": \"Baseline\", \"epoch\": 3.0, \"accuracy\": 0.5683094198378041, \"precision\": 0.5712034827034512, \"recall\": 0.5683094198378041, \"macro f1\": 0.477157042522623, \"f1\": 0.5651306300888512}, {\"model\": \"Baseline\", \"epoch\": 4.0, \"accuracy\": 0.5480349344978166, \"precision\": 0.5423547381224236, \"recall\": 0.5480349344978166, \"macro f1\": 0.459205086930347, \"f1\": 0.5409594409963192}, {\"model\": \"Baseline\", \"epoch\": 5.0, \"accuracy\": 0.566126013724267, \"precision\": 0.5474181474104431, \"recall\": 0.566126013724267, \"macro f1\": 0.4524553373774147, \"f1\": 0.5483443191830463}, {\"model\": \"Baseline\", \"epoch\": 6.0, \"accuracy\": 0.5648783530879601, \"precision\": 0.5510305661378012, \"recall\": 0.5648783530879601, \"macro f1\": 0.4581414871219808, \"f1\": 0.5529009157279847}, {\"model\": \"Baseline\", \"epoch\": 7.0, \"accuracy\": 0.5539613225202745, \"precision\": 0.5431915341832255, \"recall\": 0.5539613225202745, \"macro f1\": 0.4535857839952609, \"f1\": 0.5471052121479397}, {\"model\": \"Baseline\", \"epoch\": 8.0, \"accuracy\": 0.5573923892701186, \"precision\": 0.5442716354760878, \"recall\": 0.5573923892701186, \"macro f1\": 0.4559099210983406, \"f1\": 0.5478798880978365}, {\"model\": \"Baseline\", \"epoch\": 9.0, \"accuracy\": 0.5577043044291953, \"precision\": 0.5426696860299222, \"recall\": 0.5577043044291953, \"macro f1\": 0.4534601973497401, \"f1\": 0.5466049018310791}, {\"model\": \"Baseline\", \"epoch\": 10.0, \"accuracy\": 0.5552089831565814, \"precision\": 0.5439156936335843, \"recall\": 0.5552089831565814, \"macro f1\": 0.4584293092700988, \"f1\": 0.547790729022818}, {\"model\": \"PSRN\", \"epoch\": 1.0, \"accuracy\": 0.5455396132252027, \"precision\": 0.4864740691292102, \"recall\": 0.5455396132252027, \"macro f1\": 0.2660236558412899, \"f1\": 0.4578671447036262}, {\"model\": \"PSRN\", \"epoch\": 2.0, \"accuracy\": 0.533686837180287, \"precision\": 0.5386716742374512, \"recall\": 0.533686837180287, \"macro f1\": 0.4168101505119305, \"f1\": 0.5217144315431479}, {\"model\": \"PSRN\", \"epoch\": 3.0, \"accuracy\": 0.5383655645664379, \"precision\": 0.5279486502928162, \"recall\": 0.5383655645664379, \"macro f1\": 0.4343140389022443, \"f1\": 0.5301348487692048}, {\"model\": \"PSRN\", \"epoch\": 4.0, \"accuracy\": 0.5205864004990642, \"precision\": 0.5037033009230583, \"recall\": 0.5205864004990642, \"macro f1\": 0.4066726050999148, \"f1\": 0.5037263650948516}, {\"model\": \"PSRN\", \"epoch\": 5.0, \"accuracy\": 0.5268247036805989, \"precision\": 0.511838445732075, \"recall\": 0.5268247036805989, \"macro f1\": 0.4182481128534865, \"f1\": 0.5159727474968526}, {\"model\": \"PSRN\", \"epoch\": 6.0, \"accuracy\": 0.5171553337492202, \"precision\": 0.5109896657002009, \"recall\": 0.5171553337492202, \"macro f1\": 0.408541941437061, \"f1\": 0.5133080601377287}, {\"model\": \"PSRN\", \"epoch\": 7.0, \"accuracy\": 0.53243917654398, \"precision\": 0.5140895482814026, \"recall\": 0.53243917654398, \"macro f1\": 0.4139389057042517, \"f1\": 0.5183513799495223}, {\"model\": \"PSRN\", \"epoch\": 8.0, \"accuracy\": 0.5171553337492202, \"precision\": 0.5121679715719165, \"recall\": 0.5171553337492202, \"macro f1\": 0.4155542247974828, \"f1\": 0.5133696799974045}, {\"model\": \"PSRN\", \"epoch\": 9.0, \"accuracy\": 0.5346225826575172, \"precision\": 0.5158462502323508, \"recall\": 0.5346225826575172, \"macro f1\": 0.4138005353595711, \"f1\": 0.5211894860175558}, {\"model\": \"PSRN\", \"epoch\": 10.0, \"accuracy\": 0.5299438552713662, \"precision\": 0.5169642160847672, \"recall\": 0.5299438552713662, \"macro f1\": 0.4192480562735722, \"f1\": 0.5218159397537753}, {\"model\": \"EWN\", \"epoch\": 1.0, \"accuracy\": 0.5492825951341235, \"precision\": 0.5239161202720954, \"recall\": 0.5492825951341235, \"macro f1\": 0.3421797177418851, \"f1\": 0.4911114269687888}, {\"model\": \"EWN\", \"epoch\": 2.0, \"accuracy\": 0.5421085464753587, \"precision\": 0.5340430787304384, \"recall\": 0.5421085464753587, \"macro f1\": 0.4181658557349619, \"f1\": 0.5266016916788733}, {\"model\": \"EWN\", \"epoch\": 3.0, \"accuracy\": 0.5474111041796631, \"precision\": 0.5269279022533501, \"recall\": 0.5474111041796631, \"macro f1\": 0.4298854050925422, \"f1\": 0.5300339610123679}, {\"model\": \"EWN\", \"epoch\": 4.0, \"accuracy\": 0.5246412975670618, \"precision\": 0.5210836097081869, \"recall\": 0.5246412975670618, \"macro f1\": 0.4265334484031191, \"f1\": 0.5188732773593179}, {\"model\": \"EWN\", \"epoch\": 5.0, \"accuracy\": 0.5240174672489083, \"precision\": 0.5221733483748983, \"recall\": 0.5240174672489083, \"macro f1\": 0.4345486872021428, \"f1\": 0.5224976587262354}, {\"model\": \"EWN\", \"epoch\": 6.0, \"accuracy\": 0.5224578914535246, \"precision\": 0.5204028956925404, \"recall\": 0.5224578914535246, \"macro f1\": 0.4366027203491375, \"f1\": 0.5207622319691472}, {\"model\": \"EWN\", \"epoch\": 7.0, \"accuracy\": 0.5199625701809107, \"precision\": 0.5205902816185479, \"recall\": 0.5199625701809107, \"macro f1\": 0.4332758040297697, \"f1\": 0.5202701091499432}, {\"model\": \"EWN\", \"epoch\": 8.0, \"accuracy\": 0.5262008733624454, \"precision\": 0.5135820329962902, \"recall\": 0.5262008733624454, \"macro f1\": 0.424520810518344, \"f1\": 0.5182312442932682}, {\"model\": \"EWN\", \"epoch\": 9.0, \"accuracy\": 0.527760449157829, \"precision\": 0.5146182641171368, \"recall\": 0.527760449157829, \"macro f1\": 0.425864077622882, \"f1\": 0.5190537413240538}, {\"model\": \"EWN\", \"epoch\": 10.0, \"accuracy\": 0.5246412975670618, \"precision\": 0.5169465021952429, \"recall\": 0.5246412975670618, \"macro f1\": 0.4326442037943855, \"f1\": 0.5201216049569252}, {\"model\": \"EWN tagged\", \"epoch\": 1.0, \"accuracy\": 0.5639426076107299, \"precision\": 0.5343869485569699, \"recall\": 0.5639426076107299, \"macro f1\": 0.3846701327062806, \"f1\": 0.5181119535762752}, {\"model\": \"EWN tagged\", \"epoch\": 2.0, \"accuracy\": 0.5698689956331878, \"precision\": 0.5847683354087186, \"recall\": 0.5698689956331878, \"macro f1\": 0.4808115470461283, \"f1\": 0.5638099455352094}, {\"model\": \"EWN tagged\", \"epoch\": 3.0, \"accuracy\": 0.5676855895196506, \"precision\": 0.570108720279781, \"recall\": 0.5676855895196506, \"macro f1\": 0.4894623930375256, \"f1\": 0.565820359987216}, {\"model\": \"EWN tagged\", \"epoch\": 4.0, \"accuracy\": 0.5611353711790393, \"precision\": 0.547904636968695, \"recall\": 0.5611353711790393, \"macro f1\": 0.4664627434243673, \"f1\": 0.5523238127026842}, {\"model\": \"EWN tagged\", \"epoch\": 5.0, \"accuracy\": 0.5608234560199625, \"precision\": 0.5504731353557428, \"recall\": 0.5608234560199625, \"macro f1\": 0.470197148071513, \"f1\": 0.5541978194881327}, {\"model\": \"PSRN tagged\", \"epoch\": 1.0, \"accuracy\": 0.559263880224579, \"precision\": 0.5305444615587465, \"recall\": 0.559263880224579, \"macro f1\": 0.3924738575003423, \"f1\": 0.5006551650380716}, {\"model\": \"PSRN tagged\", \"epoch\": 2.0, \"accuracy\": 0.570804741110418, \"precision\": 0.577029761284711, \"recall\": 0.570804741110418, \"macro f1\": 0.4651270511247743, \"f1\": 0.5616137154909063}, {\"model\": \"PSRN tagged\", \"epoch\": 3.0, \"accuracy\": 0.5573923892701186, \"precision\": 0.5559246948362158, \"recall\": 0.5573923892701186, \"macro f1\": 0.4682797156083605, \"f1\": 0.5544994078870417}, {\"model\": \"PSRN tagged\", \"epoch\": 4.0, \"accuracy\": 0.5483468496568933, \"precision\": 0.5396526302882879, \"recall\": 0.5483468496568933, \"macro f1\": 0.4570506189184738, \"f1\": 0.5405295156020858}, {\"model\": \"PSRN tagged\", \"epoch\": 5.0, \"accuracy\": 0.5586400499064255, \"precision\": 0.5486221336389075, \"recall\": 0.5586400499064255, \"macro f1\": 0.4599963423584198, \"f1\": 0.5520512425318324}, {\"model\": \"Baseline tagged\", \"epoch\": 1.0, \"accuracy\": 0.5698689956331878, \"precision\": 0.5487189028290487, \"recall\": 0.5698689956331878, \"macro f1\": 0.4455405348512238, \"f1\": 0.5435482329831194}, {\"model\": \"Baseline tagged\", \"epoch\": 2.0, \"accuracy\": 0.5935745477230193, \"precision\": 0.6015937185228561, \"recall\": 0.5935745477230193, \"macro f1\": 0.4986903531402751, \"f1\": 0.5891990655770556}, {\"model\": \"Baseline tagged\", \"epoch\": 3.0, \"accuracy\": 0.5786026200873362, \"precision\": 0.5867210087097521, \"recall\": 0.5786026200873362, \"macro f1\": 0.5052233432641241, \"f1\": 0.5813868393770047}, {\"model\": \"Baseline tagged\", \"epoch\": 4.0, \"accuracy\": 0.5726762320648784, \"precision\": 0.5710001854324799, \"recall\": 0.5726762320648784, \"macro f1\": 0.4861316308002325, \"f1\": 0.5704170525474976}, {\"model\": \"Baseline tagged\", \"epoch\": 5.0, \"accuracy\": 0.5820336868371803, \"precision\": 0.5763847095520912, \"recall\": 0.5820336868371803, \"macro f1\": 0.4914471956856031, \"f1\": 0.5785161036548613}, {\"model\": \"DN tagged\", \"epoch\": 1.0, \"accuracy\": 0.586073500967118, \"precision\": 0.3434821485358544, \"recall\": 0.586073500967118, \"macro f1\": 0.1847560975609756, \"f1\": 0.4331226116903335}, {\"model\": \"DN tagged\", \"epoch\": 2.0, \"accuracy\": 0.5764023210831721, \"precision\": 0.5600155876096229, \"recall\": 0.5764023210831721, \"macro f1\": 0.235416447884832, \"f1\": 0.4733790412201622}, {\"model\": \"DN tagged\", \"epoch\": 3.0, \"accuracy\": 0.5802707930367504, \"precision\": 0.5849708323193503, \"recall\": 0.5802707930367504, \"macro f1\": 0.3011618252303688, \"f1\": 0.5163038217073878}, {\"model\": \"DN tagged\", \"epoch\": 4.0, \"accuracy\": 0.5570599613152805, \"precision\": 0.5581235078097283, \"recall\": 0.5570599613152805, \"macro f1\": 0.3660828338126422, \"f1\": 0.5391931191302647}, {\"model\": \"DN tagged\", \"epoch\": 5.0, \"accuracy\": 0.5686653771760155, \"precision\": 0.5460067858632034, \"recall\": 0.5686653771760155, \"macro f1\": 0.3566969956191513, \"f1\": 0.5374159215042246}, {\"model\": \"DN tagged\", \"epoch\": 6.0, \"accuracy\": 0.5551257253384912, \"precision\": 0.5419866217450494, \"recall\": 0.5551257253384912, \"macro f1\": 0.3947577339763752, \"f1\": 0.543961074741382}, {\"model\": \"DN tagged\", \"epoch\": 7.0, \"accuracy\": 0.5551257253384912, \"precision\": 0.5352177436265257, \"recall\": 0.5551257253384912, \"macro f1\": 0.3896675597694736, \"f1\": 0.5418559859526911}, {\"model\": \"DN tagged\", \"epoch\": 8.0, \"accuracy\": 0.5686653771760155, \"precision\": 0.5469259043576078, \"recall\": 0.5686653771760155, \"macro f1\": 0.3818362574303536, \"f1\": 0.5455855142475158}, {\"model\": \"DN tagged\", \"epoch\": 9.0, \"accuracy\": 0.5570599613152805, \"precision\": 0.5359540457353926, \"recall\": 0.5570599613152805, \"macro f1\": 0.3822952487227953, \"f1\": 0.5414612063105608}, {\"model\": \"DN tagged\", \"epoch\": 10.0, \"accuracy\": 0.562862669245648, \"precision\": 0.5396927980195624, \"recall\": 0.562862669245648, \"macro f1\": 0.3862360839884499, \"f1\": 0.5457649165112753}, {\"model\": \"EWN tagged no stopwords\", \"epoch\": 1.0, \"accuracy\": 0.5511540860885838, \"precision\": 0.5109231458833916, \"recall\": 0.5511540860885838, \"macro f1\": 0.3202376973771165, \"f1\": 0.4831581612757074}, {\"model\": \"EWN tagged no stopwords\", \"epoch\": 2.0, \"accuracy\": 0.5464753587024329, \"precision\": 0.5223246676079183, \"recall\": 0.5464753587024329, \"macro f1\": 0.3779347979791821, \"f1\": 0.5119931414077725}, {\"model\": \"PSRN tagged no stopwords\", \"epoch\": 1.0, \"accuracy\": 0.533686837180287, \"precision\": 0.4830255947152913, \"recall\": 0.533686837180287, \"macro f1\": 0.246651557235857, \"f1\": 0.4394597630466458}, {\"model\": \"PSRN tagged no stopwords\", \"epoch\": 2.0, \"accuracy\": 0.5508421709295072, \"precision\": 0.5350479973480397, \"recall\": 0.5508421709295072, \"macro f1\": 0.3401406651921045, \"f1\": 0.5109613060288064}, {\"model\": \"DN tagged no stopwords\", \"epoch\": 1.0, \"accuracy\": 0.6112185686653772, \"precision\": 0.3735881386813524, \"recall\": 0.6112185686653772, \"macro f1\": 0.1896758703481392, \"f1\": 0.4637336559381973}, {\"model\": \"DN tagged no stopwords\", \"epoch\": 2.0, \"accuracy\": 0.6112185686653772, \"precision\": 0.4564621293655154, \"recall\": 0.6112185686653772, \"macro f1\": 0.1936051899907321, \"f1\": 0.4677161853783232}, {\"model\": \"DN tagged no stopwords\", \"epoch\": 3.0, \"accuracy\": 0.5841392649903289, \"precision\": 0.5218735136506326, \"recall\": 0.5841392649903289, \"macro f1\": 0.2940022481762252, \"f1\": 0.5476403397862869}, {\"model\": \"DN tagged no stopwords\", \"epoch\": 4.0, \"accuracy\": 0.5938104448742747, \"precision\": 0.5339199246617843, \"recall\": 0.5938104448742747, \"macro f1\": 0.3182338505083398, \"f1\": 0.5498184654162838}, {\"model\": \"DN tagged no stopwords\", \"epoch\": 5.0, \"accuracy\": 0.5512572533849129, \"precision\": 0.5383083895219629, \"recall\": 0.5512572533849129, \"macro f1\": 0.3373687256673497, \"f1\": 0.5394551811204177}, {\"model\": \"DN tagged no stopwords\", \"epoch\": 6.0, \"accuracy\": 0.574468085106383, \"precision\": 0.5144467774801147, \"recall\": 0.574468085106383, \"macro f1\": 0.2988240947395102, \"f1\": 0.5328132863120888}, {\"model\": \"DN tagged no stopwords\", \"epoch\": 7.0, \"accuracy\": 0.5589941972920697, \"precision\": 0.544244330550899, \"recall\": 0.5589941972920697, \"macro f1\": 0.3479077943518713, \"f1\": 0.5494318239382925}, {\"model\": \"DN tagged no stopwords\", \"epoch\": 8.0, \"accuracy\": 0.5609284332688588, \"precision\": 0.539245283827174, \"recall\": 0.5609284332688588, \"macro f1\": 0.3370742687439603, \"f1\": 0.5478739641801703}, {\"model\": \"DN tagged no stopwords\", \"epoch\": 9.0, \"accuracy\": 0.5493230174081238, \"precision\": 0.5454310684821234, \"recall\": 0.5493230174081238, \"macro f1\": 0.3499376501694894, \"f1\": 0.5438224852016822}, {\"model\": \"DN tagged no stopwords\", \"epoch\": 10.0, \"accuracy\": 0.5647969052224371, \"precision\": 0.5489684524582891, \"recall\": 0.5647969052224371, \"macro f1\": 0.3671575878165404, \"f1\": 0.5522710715172984}, {\"model\": \"Baseline tagged no stopwords\", \"epoch\": 1.0, \"accuracy\": 0.5514660012476607, \"precision\": 0.5253697164872363, \"recall\": 0.5514660012476607, \"macro f1\": 0.39894065996904, \"f1\": 0.5148519455261101}, {\"model\": \"Baseline tagged no stopwords\", \"epoch\": 2.0, \"accuracy\": 0.5648783530879601, \"precision\": 0.5640018156178865, \"recall\": 0.5648783530879601, \"macro f1\": 0.4633205478865688, \"f1\": 0.5591517624050263}, {\"model\": \"Baseline tagged no stopwords\", \"epoch\": 3.0, \"accuracy\": 0.5630068621334997, \"precision\": 0.5603807262732502, \"recall\": 0.5630068621334997, \"macro f1\": 0.4597256810406277, \"f1\": 0.5559062835691457}, {\"model\": \"Baseline tagged no stopwords\", \"epoch\": 4.0, \"accuracy\": 0.5605115408608858, \"precision\": 0.5481017881621748, \"recall\": 0.5605115408608858, \"macro f1\": 0.4585039771768572, \"f1\": 0.5523719307430579}, {\"model\": \"Baseline tagged no stopwords\", \"epoch\": 5.0, \"accuracy\": 0.5676855895196506, \"precision\": 0.5564237246024459, \"recall\": 0.5676855895196506, \"macro f1\": 0.4589360323224269, \"f1\": 0.559882978100444}]}}, {\"mode\": \"vega-lite\"});\n",
       "</script>"
      ],
      "text/plain": [
       "alt.LayerChart(...)"
      ]
     },
     "execution_count": 58,
     "metadata": {},
     "output_type": "execute_result"
    }
   ],
   "source": [
    "metric = 'macro f1'\n",
    "chart = static_graph(all_files_df, metric)\n",
    "chart"
   ]
  },
  {
   "cell_type": "code",
   "execution_count": 41,
   "metadata": {},
   "outputs": [
    {
     "data": {
      "text/html": [
       "\n",
       "<div id=\"altair-viz-d48ec8e074d14d28bea7b47d9b7be00d\"></div>\n",
       "<script type=\"text/javascript\">\n",
       "  var VEGA_DEBUG = (typeof VEGA_DEBUG == \"undefined\") ? {} : VEGA_DEBUG;\n",
       "  (function(spec, embedOpt){\n",
       "    let outputDiv = document.currentScript.previousElementSibling;\n",
       "    if (outputDiv.id !== \"altair-viz-d48ec8e074d14d28bea7b47d9b7be00d\") {\n",
       "      outputDiv = document.getElementById(\"altair-viz-d48ec8e074d14d28bea7b47d9b7be00d\");\n",
       "    }\n",
       "    const paths = {\n",
       "      \"vega\": \"https://cdn.jsdelivr.net/npm//vega@5?noext\",\n",
       "      \"vega-lib\": \"https://cdn.jsdelivr.net/npm//vega-lib?noext\",\n",
       "      \"vega-lite\": \"https://cdn.jsdelivr.net/npm//vega-lite@4.17.0?noext\",\n",
       "      \"vega-embed\": \"https://cdn.jsdelivr.net/npm//vega-embed@6?noext\",\n",
       "    };\n",
       "\n",
       "    function maybeLoadScript(lib, version) {\n",
       "      var key = `${lib.replace(\"-\", \"\")}_version`;\n",
       "      return (VEGA_DEBUG[key] == version) ?\n",
       "        Promise.resolve(paths[lib]) :\n",
       "        new Promise(function(resolve, reject) {\n",
       "          var s = document.createElement('script');\n",
       "          document.getElementsByTagName(\"head\")[0].appendChild(s);\n",
       "          s.async = true;\n",
       "          s.onload = () => {\n",
       "            VEGA_DEBUG[key] = version;\n",
       "            return resolve(paths[lib]);\n",
       "          };\n",
       "          s.onerror = () => reject(`Error loading script: ${paths[lib]}`);\n",
       "          s.src = paths[lib];\n",
       "        });\n",
       "    }\n",
       "\n",
       "    function showError(err) {\n",
       "      outputDiv.innerHTML = `<div class=\"error\" style=\"color:red;\">${err}</div>`;\n",
       "      throw err;\n",
       "    }\n",
       "\n",
       "    function displayChart(vegaEmbed) {\n",
       "      vegaEmbed(outputDiv, spec, embedOpt)\n",
       "        .catch(err => showError(`Javascript Error: ${err.message}<br>This usually means there's a typo in your chart specification. See the javascript console for the full traceback.`));\n",
       "    }\n",
       "\n",
       "    if(typeof define === \"function\" && define.amd) {\n",
       "      requirejs.config({paths});\n",
       "      require([\"vega-embed\"], displayChart, err => showError(`Error loading script: ${err.message}`));\n",
       "    } else {\n",
       "      maybeLoadScript(\"vega\", \"5\")\n",
       "        .then(() => maybeLoadScript(\"vega-lite\", \"4.17.0\"))\n",
       "        .then(() => maybeLoadScript(\"vega-embed\", \"6\"))\n",
       "        .catch(showError)\n",
       "        .then(() => displayChart(vegaEmbed));\n",
       "    }\n",
       "  })({\"config\": {\"view\": {\"continuousWidth\": 400, \"continuousHeight\": 300}}, \"layer\": [{\"mark\": \"line\", \"encoding\": {\"color\": {\"field\": \"model\", \"legend\": {\"title\": \"Model\"}, \"type\": \"nominal\"}, \"tooltip\": [{\"field\": \"model\", \"type\": \"nominal\"}, {\"field\": \"epoch\", \"type\": \"quantitative\"}, {\"field\": \"value\", \"type\": \"quantitative\"}, {\"field\": \"metric\", \"type\": \"nominal\"}], \"x\": {\"field\": \"epoch\", \"type\": \"quantitative\"}, \"y\": {\"field\": \"value\", \"type\": \"quantitative\"}}, \"selection\": {\"Select\": {\"type\": \"single\", \"fields\": [\"metric\"], \"init\": {\"metric\": \"accuracy\"}, \"bind\": {\"input\": \"select\", \"options\": [\"accuracy\", \"precision\", \"recall\", \"macro f1\", \"f1\"]}}, \"selector008\": {\"type\": \"interval\", \"bind\": \"scales\", \"encodings\": [\"x\", \"y\"]}}, \"transform\": [{\"filter\": {\"selection\": \"Select\"}}], \"width\": 500}, {\"mark\": \"circle\", \"encoding\": {\"color\": {\"field\": \"model\", \"legend\": {\"title\": \"Model\"}, \"type\": \"nominal\"}, \"x\": {\"field\": \"last_epoch['epoch']\", \"type\": \"quantitative\"}, \"y\": {\"field\": \"last_epoch['value']\", \"type\": \"quantitative\"}}, \"transform\": [{\"aggregate\": [{\"op\": \"argmax\", \"field\": \"epoch\", \"as\": \"last_epoch\"}], \"groupby\": [\"model\"]}, {\"filter\": {\"selection\": \"Select\"}}], \"width\": 500}], \"data\": {\"name\": \"data-5726fd362e652d84efc3736f3bea0b58\"}, \"encoding\": {\"x\": {\"title\": \"Epoch\"}, \"y\": {\"field\": \"value\", \"title\": \"Value\", \"type\": \"quantitative\"}}, \"title\": \"Evaluation Metrics per Epoch\", \"$schema\": \"https://vega.github.io/schema/vega-lite/v4.17.0.json\", \"datasets\": {\"data-5726fd362e652d84efc3736f3bea0b58\": [{\"model\": \"Baseline\", \"epoch\": 1.0, \"metric\": \"accuracy\", \"value\": 0.5729881472239551}, {\"model\": \"Baseline\", \"epoch\": 2.0, \"metric\": \"accuracy\", \"value\": 0.5782907049282595}, {\"model\": \"Baseline\", \"epoch\": 3.0, \"metric\": \"accuracy\", \"value\": 0.5683094198378041}, {\"model\": \"Baseline\", \"epoch\": 4.0, \"metric\": \"accuracy\", \"value\": 0.5480349344978166}, {\"model\": \"Baseline\", \"epoch\": 5.0, \"metric\": \"accuracy\", \"value\": 0.566126013724267}, {\"model\": \"Baseline\", \"epoch\": 6.0, \"metric\": \"accuracy\", \"value\": 0.5648783530879601}, {\"model\": \"Baseline\", \"epoch\": 7.0, \"metric\": \"accuracy\", \"value\": 0.5539613225202745}, {\"model\": \"Baseline\", \"epoch\": 8.0, \"metric\": \"accuracy\", \"value\": 0.5573923892701186}, {\"model\": \"Baseline\", \"epoch\": 9.0, \"metric\": \"accuracy\", \"value\": 0.5577043044291953}, {\"model\": \"Baseline\", \"epoch\": 10.0, \"metric\": \"accuracy\", \"value\": 0.5552089831565814}, {\"model\": \"PSRN\", \"epoch\": 1.0, \"metric\": \"accuracy\", \"value\": 0.5455396132252027}, {\"model\": \"PSRN\", \"epoch\": 2.0, \"metric\": \"accuracy\", \"value\": 0.533686837180287}, {\"model\": \"PSRN\", \"epoch\": 3.0, \"metric\": \"accuracy\", \"value\": 0.5383655645664379}, {\"model\": \"PSRN\", \"epoch\": 4.0, \"metric\": \"accuracy\", \"value\": 0.5205864004990642}, {\"model\": \"PSRN\", \"epoch\": 5.0, \"metric\": \"accuracy\", \"value\": 0.5268247036805989}, {\"model\": \"PSRN\", \"epoch\": 6.0, \"metric\": \"accuracy\", \"value\": 0.5171553337492202}, {\"model\": \"PSRN\", \"epoch\": 7.0, \"metric\": \"accuracy\", \"value\": 0.53243917654398}, {\"model\": \"PSRN\", \"epoch\": 8.0, \"metric\": \"accuracy\", \"value\": 0.5171553337492202}, {\"model\": \"PSRN\", \"epoch\": 9.0, \"metric\": \"accuracy\", \"value\": 0.5346225826575172}, {\"model\": \"PSRN\", \"epoch\": 10.0, \"metric\": \"accuracy\", \"value\": 0.5299438552713662}, {\"model\": \"EWN\", \"epoch\": 1.0, \"metric\": \"accuracy\", \"value\": 0.5492825951341235}, {\"model\": \"EWN\", \"epoch\": 2.0, \"metric\": \"accuracy\", \"value\": 0.5421085464753587}, {\"model\": \"EWN\", \"epoch\": 3.0, \"metric\": \"accuracy\", \"value\": 0.5474111041796631}, {\"model\": \"EWN\", \"epoch\": 4.0, \"metric\": \"accuracy\", \"value\": 0.5246412975670618}, {\"model\": \"EWN\", \"epoch\": 5.0, \"metric\": \"accuracy\", \"value\": 0.5240174672489083}, {\"model\": \"EWN\", \"epoch\": 6.0, \"metric\": \"accuracy\", \"value\": 0.5224578914535246}, {\"model\": \"EWN\", \"epoch\": 7.0, \"metric\": \"accuracy\", \"value\": 0.5199625701809107}, {\"model\": \"EWN\", \"epoch\": 8.0, \"metric\": \"accuracy\", \"value\": 0.5262008733624454}, {\"model\": \"EWN\", \"epoch\": 9.0, \"metric\": \"accuracy\", \"value\": 0.527760449157829}, {\"model\": \"EWN\", \"epoch\": 10.0, \"metric\": \"accuracy\", \"value\": 0.5246412975670618}, {\"model\": \"EWN tagged\", \"epoch\": 1.0, \"metric\": \"accuracy\", \"value\": 0.5639426076107299}, {\"model\": \"EWN tagged\", \"epoch\": 2.0, \"metric\": \"accuracy\", \"value\": 0.5698689956331878}, {\"model\": \"EWN tagged\", \"epoch\": 3.0, \"metric\": \"accuracy\", \"value\": 0.5676855895196506}, {\"model\": \"EWN tagged\", \"epoch\": 4.0, \"metric\": \"accuracy\", \"value\": 0.5611353711790393}, {\"model\": \"EWN tagged\", \"epoch\": 5.0, \"metric\": \"accuracy\", \"value\": 0.5608234560199625}, {\"model\": \"PSRN tagged\", \"epoch\": 1.0, \"metric\": \"accuracy\", \"value\": 0.559263880224579}, {\"model\": \"PSRN tagged\", \"epoch\": 2.0, \"metric\": \"accuracy\", \"value\": 0.570804741110418}, {\"model\": \"PSRN tagged\", \"epoch\": 3.0, \"metric\": \"accuracy\", \"value\": 0.5573923892701186}, {\"model\": \"PSRN tagged\", \"epoch\": 4.0, \"metric\": \"accuracy\", \"value\": 0.5483468496568933}, {\"model\": \"PSRN tagged\", \"epoch\": 5.0, \"metric\": \"accuracy\", \"value\": 0.5586400499064255}, {\"model\": \"Baseline tagged\", \"epoch\": 1.0, \"metric\": \"accuracy\", \"value\": 0.5698689956331878}, {\"model\": \"Baseline tagged\", \"epoch\": 2.0, \"metric\": \"accuracy\", \"value\": 0.5935745477230193}, {\"model\": \"Baseline tagged\", \"epoch\": 3.0, \"metric\": \"accuracy\", \"value\": 0.5786026200873362}, {\"model\": \"Baseline tagged\", \"epoch\": 4.0, \"metric\": \"accuracy\", \"value\": 0.5726762320648784}, {\"model\": \"Baseline tagged\", \"epoch\": 5.0, \"metric\": \"accuracy\", \"value\": 0.5820336868371803}, {\"model\": \"DN tagged\", \"epoch\": 1.0, \"metric\": \"accuracy\", \"value\": 0.586073500967118}, {\"model\": \"DN tagged\", \"epoch\": 2.0, \"metric\": \"accuracy\", \"value\": 0.5764023210831721}, {\"model\": \"DN tagged\", \"epoch\": 3.0, \"metric\": \"accuracy\", \"value\": 0.5802707930367504}, {\"model\": \"DN tagged\", \"epoch\": 4.0, \"metric\": \"accuracy\", \"value\": 0.5570599613152805}, {\"model\": \"DN tagged\", \"epoch\": 5.0, \"metric\": \"accuracy\", \"value\": 0.5686653771760155}, {\"model\": \"DN tagged\", \"epoch\": 6.0, \"metric\": \"accuracy\", \"value\": 0.5551257253384912}, {\"model\": \"DN tagged\", \"epoch\": 7.0, \"metric\": \"accuracy\", \"value\": 0.5551257253384912}, {\"model\": \"DN tagged\", \"epoch\": 8.0, \"metric\": \"accuracy\", \"value\": 0.5686653771760155}, {\"model\": \"DN tagged\", \"epoch\": 9.0, \"metric\": \"accuracy\", \"value\": 0.5570599613152805}, {\"model\": \"DN tagged\", \"epoch\": 10.0, \"metric\": \"accuracy\", \"value\": 0.562862669245648}, {\"model\": \"EWN tagged no stopwords\", \"epoch\": 1.0, \"metric\": \"accuracy\", \"value\": 0.5511540860885838}, {\"model\": \"EWN tagged no stopwords\", \"epoch\": 2.0, \"metric\": \"accuracy\", \"value\": 0.5464753587024329}, {\"model\": \"PSRN tagged no stopwords\", \"epoch\": 1.0, \"metric\": \"accuracy\", \"value\": 0.533686837180287}, {\"model\": \"PSRN tagged no stopwords\", \"epoch\": 2.0, \"metric\": \"accuracy\", \"value\": 0.5508421709295072}, {\"model\": \"DN tagged no stopwords\", \"epoch\": 1.0, \"metric\": \"accuracy\", \"value\": 0.6112185686653772}, {\"model\": \"DN tagged no stopwords\", \"epoch\": 2.0, \"metric\": \"accuracy\", \"value\": 0.6112185686653772}, {\"model\": \"DN tagged no stopwords\", \"epoch\": 3.0, \"metric\": \"accuracy\", \"value\": 0.5841392649903289}, {\"model\": \"DN tagged no stopwords\", \"epoch\": 4.0, \"metric\": \"accuracy\", \"value\": 0.5938104448742747}, {\"model\": \"DN tagged no stopwords\", \"epoch\": 5.0, \"metric\": \"accuracy\", \"value\": 0.5512572533849129}, {\"model\": \"DN tagged no stopwords\", \"epoch\": 6.0, \"metric\": \"accuracy\", \"value\": 0.574468085106383}, {\"model\": \"DN tagged no stopwords\", \"epoch\": 7.0, \"metric\": \"accuracy\", \"value\": 0.5589941972920697}, {\"model\": \"DN tagged no stopwords\", \"epoch\": 8.0, \"metric\": \"accuracy\", \"value\": 0.5609284332688588}, {\"model\": \"DN tagged no stopwords\", \"epoch\": 9.0, \"metric\": \"accuracy\", \"value\": 0.5493230174081238}, {\"model\": \"DN tagged no stopwords\", \"epoch\": 10.0, \"metric\": \"accuracy\", \"value\": 0.5647969052224371}, {\"model\": \"Baseline tagged no stopwords\", \"epoch\": 1.0, \"metric\": \"accuracy\", \"value\": 0.5514660012476607}, {\"model\": \"Baseline tagged no stopwords\", \"epoch\": 2.0, \"metric\": \"accuracy\", \"value\": 0.5648783530879601}, {\"model\": \"Baseline tagged no stopwords\", \"epoch\": 3.0, \"metric\": \"accuracy\", \"value\": 0.5630068621334997}, {\"model\": \"Baseline tagged no stopwords\", \"epoch\": 4.0, \"metric\": \"accuracy\", \"value\": 0.5605115408608858}, {\"model\": \"Baseline tagged no stopwords\", \"epoch\": 5.0, \"metric\": \"accuracy\", \"value\": 0.5676855895196506}, {\"model\": \"Baseline\", \"epoch\": 1.0, \"metric\": \"precision\", \"value\": 0.550824251068989}, {\"model\": \"Baseline\", \"epoch\": 2.0, \"metric\": \"precision\", \"value\": 0.596606312348719}, {\"model\": \"Baseline\", \"epoch\": 3.0, \"metric\": \"precision\", \"value\": 0.5712034827034512}, {\"model\": \"Baseline\", \"epoch\": 4.0, \"metric\": \"precision\", \"value\": 0.5423547381224236}, {\"model\": \"Baseline\", \"epoch\": 5.0, \"metric\": \"precision\", \"value\": 0.5474181474104431}, {\"model\": \"Baseline\", \"epoch\": 6.0, \"metric\": \"precision\", \"value\": 0.5510305661378012}, {\"model\": \"Baseline\", \"epoch\": 7.0, \"metric\": \"precision\", \"value\": 0.5431915341832255}, {\"model\": \"Baseline\", \"epoch\": 8.0, \"metric\": \"precision\", \"value\": 0.5442716354760878}, {\"model\": \"Baseline\", \"epoch\": 9.0, \"metric\": \"precision\", \"value\": 0.5426696860299222}, {\"model\": \"Baseline\", \"epoch\": 10.0, \"metric\": \"precision\", \"value\": 0.5439156936335843}, {\"model\": \"PSRN\", \"epoch\": 1.0, \"metric\": \"precision\", \"value\": 0.4864740691292102}, {\"model\": \"PSRN\", \"epoch\": 2.0, \"metric\": \"precision\", \"value\": 0.5386716742374512}, {\"model\": \"PSRN\", \"epoch\": 3.0, \"metric\": \"precision\", \"value\": 0.5279486502928162}, {\"model\": \"PSRN\", \"epoch\": 4.0, \"metric\": \"precision\", \"value\": 0.5037033009230583}, {\"model\": \"PSRN\", \"epoch\": 5.0, \"metric\": \"precision\", \"value\": 0.511838445732075}, {\"model\": \"PSRN\", \"epoch\": 6.0, \"metric\": \"precision\", \"value\": 0.5109896657002009}, {\"model\": \"PSRN\", \"epoch\": 7.0, \"metric\": \"precision\", \"value\": 0.5140895482814026}, {\"model\": \"PSRN\", \"epoch\": 8.0, \"metric\": \"precision\", \"value\": 0.5121679715719165}, {\"model\": \"PSRN\", \"epoch\": 9.0, \"metric\": \"precision\", \"value\": 0.5158462502323508}, {\"model\": \"PSRN\", \"epoch\": 10.0, \"metric\": \"precision\", \"value\": 0.5169642160847672}, {\"model\": \"EWN\", \"epoch\": 1.0, \"metric\": \"precision\", \"value\": 0.5239161202720954}, {\"model\": \"EWN\", \"epoch\": 2.0, \"metric\": \"precision\", \"value\": 0.5340430787304384}, {\"model\": \"EWN\", \"epoch\": 3.0, \"metric\": \"precision\", \"value\": 0.5269279022533501}, {\"model\": \"EWN\", \"epoch\": 4.0, \"metric\": \"precision\", \"value\": 0.5210836097081869}, {\"model\": \"EWN\", \"epoch\": 5.0, \"metric\": \"precision\", \"value\": 0.5221733483748983}, {\"model\": \"EWN\", \"epoch\": 6.0, \"metric\": \"precision\", \"value\": 0.5204028956925404}, {\"model\": \"EWN\", \"epoch\": 7.0, \"metric\": \"precision\", \"value\": 0.5205902816185479}, {\"model\": \"EWN\", \"epoch\": 8.0, \"metric\": \"precision\", \"value\": 0.5135820329962902}, {\"model\": \"EWN\", \"epoch\": 9.0, \"metric\": \"precision\", \"value\": 0.5146182641171368}, {\"model\": \"EWN\", \"epoch\": 10.0, \"metric\": \"precision\", \"value\": 0.5169465021952429}, {\"model\": \"EWN tagged\", \"epoch\": 1.0, \"metric\": \"precision\", \"value\": 0.5343869485569699}, {\"model\": \"EWN tagged\", \"epoch\": 2.0, \"metric\": \"precision\", \"value\": 0.5847683354087186}, {\"model\": \"EWN tagged\", \"epoch\": 3.0, \"metric\": \"precision\", \"value\": 0.570108720279781}, {\"model\": \"EWN tagged\", \"epoch\": 4.0, \"metric\": \"precision\", \"value\": 0.547904636968695}, {\"model\": \"EWN tagged\", \"epoch\": 5.0, \"metric\": \"precision\", \"value\": 0.5504731353557428}, {\"model\": \"PSRN tagged\", \"epoch\": 1.0, \"metric\": \"precision\", \"value\": 0.5305444615587465}, {\"model\": \"PSRN tagged\", \"epoch\": 2.0, \"metric\": \"precision\", \"value\": 0.577029761284711}, {\"model\": \"PSRN tagged\", \"epoch\": 3.0, \"metric\": \"precision\", \"value\": 0.5559246948362158}, {\"model\": \"PSRN tagged\", \"epoch\": 4.0, \"metric\": \"precision\", \"value\": 0.5396526302882879}, {\"model\": \"PSRN tagged\", \"epoch\": 5.0, \"metric\": \"precision\", \"value\": 0.5486221336389075}, {\"model\": \"Baseline tagged\", \"epoch\": 1.0, \"metric\": \"precision\", \"value\": 0.5487189028290487}, {\"model\": \"Baseline tagged\", \"epoch\": 2.0, \"metric\": \"precision\", \"value\": 0.6015937185228561}, {\"model\": \"Baseline tagged\", \"epoch\": 3.0, \"metric\": \"precision\", \"value\": 0.5867210087097521}, {\"model\": \"Baseline tagged\", \"epoch\": 4.0, \"metric\": \"precision\", \"value\": 0.5710001854324799}, {\"model\": \"Baseline tagged\", \"epoch\": 5.0, \"metric\": \"precision\", \"value\": 0.5763847095520912}, {\"model\": \"DN tagged\", \"epoch\": 1.0, \"metric\": \"precision\", \"value\": 0.3434821485358544}, {\"model\": \"DN tagged\", \"epoch\": 2.0, \"metric\": \"precision\", \"value\": 0.5600155876096229}, {\"model\": \"DN tagged\", \"epoch\": 3.0, \"metric\": \"precision\", \"value\": 0.5849708323193503}, {\"model\": \"DN tagged\", \"epoch\": 4.0, \"metric\": \"precision\", \"value\": 0.5581235078097283}, {\"model\": \"DN tagged\", \"epoch\": 5.0, \"metric\": \"precision\", \"value\": 0.5460067858632034}, {\"model\": \"DN tagged\", \"epoch\": 6.0, \"metric\": \"precision\", \"value\": 0.5419866217450494}, {\"model\": \"DN tagged\", \"epoch\": 7.0, \"metric\": \"precision\", \"value\": 0.5352177436265257}, {\"model\": \"DN tagged\", \"epoch\": 8.0, \"metric\": \"precision\", \"value\": 0.5469259043576078}, {\"model\": \"DN tagged\", \"epoch\": 9.0, \"metric\": \"precision\", \"value\": 0.5359540457353926}, {\"model\": \"DN tagged\", \"epoch\": 10.0, \"metric\": \"precision\", \"value\": 0.5396927980195624}, {\"model\": \"EWN tagged no stopwords\", \"epoch\": 1.0, \"metric\": \"precision\", \"value\": 0.5109231458833916}, {\"model\": \"EWN tagged no stopwords\", \"epoch\": 2.0, \"metric\": \"precision\", \"value\": 0.5223246676079183}, {\"model\": \"PSRN tagged no stopwords\", \"epoch\": 1.0, \"metric\": \"precision\", \"value\": 0.4830255947152913}, {\"model\": \"PSRN tagged no stopwords\", \"epoch\": 2.0, \"metric\": \"precision\", \"value\": 0.5350479973480397}, {\"model\": \"DN tagged no stopwords\", \"epoch\": 1.0, \"metric\": \"precision\", \"value\": 0.3735881386813524}, {\"model\": \"DN tagged no stopwords\", \"epoch\": 2.0, \"metric\": \"precision\", \"value\": 0.4564621293655154}, {\"model\": \"DN tagged no stopwords\", \"epoch\": 3.0, \"metric\": \"precision\", \"value\": 0.5218735136506326}, {\"model\": \"DN tagged no stopwords\", \"epoch\": 4.0, \"metric\": \"precision\", \"value\": 0.5339199246617843}, {\"model\": \"DN tagged no stopwords\", \"epoch\": 5.0, \"metric\": \"precision\", \"value\": 0.5383083895219629}, {\"model\": \"DN tagged no stopwords\", \"epoch\": 6.0, \"metric\": \"precision\", \"value\": 0.5144467774801147}, {\"model\": \"DN tagged no stopwords\", \"epoch\": 7.0, \"metric\": \"precision\", \"value\": 0.544244330550899}, {\"model\": \"DN tagged no stopwords\", \"epoch\": 8.0, \"metric\": \"precision\", \"value\": 0.539245283827174}, {\"model\": \"DN tagged no stopwords\", \"epoch\": 9.0, \"metric\": \"precision\", \"value\": 0.5454310684821234}, {\"model\": \"DN tagged no stopwords\", \"epoch\": 10.0, \"metric\": \"precision\", \"value\": 0.5489684524582891}, {\"model\": \"Baseline tagged no stopwords\", \"epoch\": 1.0, \"metric\": \"precision\", \"value\": 0.5253697164872363}, {\"model\": \"Baseline tagged no stopwords\", \"epoch\": 2.0, \"metric\": \"precision\", \"value\": 0.5640018156178865}, {\"model\": \"Baseline tagged no stopwords\", \"epoch\": 3.0, \"metric\": \"precision\", \"value\": 0.5603807262732502}, {\"model\": \"Baseline tagged no stopwords\", \"epoch\": 4.0, \"metric\": \"precision\", \"value\": 0.5481017881621748}, {\"model\": \"Baseline tagged no stopwords\", \"epoch\": 5.0, \"metric\": \"precision\", \"value\": 0.5564237246024459}, {\"model\": \"Baseline\", \"epoch\": 1.0, \"metric\": \"recall\", \"value\": 0.5729881472239551}, {\"model\": \"Baseline\", \"epoch\": 2.0, \"metric\": \"recall\", \"value\": 0.5782907049282595}, {\"model\": \"Baseline\", \"epoch\": 3.0, \"metric\": \"recall\", \"value\": 0.5683094198378041}, {\"model\": \"Baseline\", \"epoch\": 4.0, \"metric\": \"recall\", \"value\": 0.5480349344978166}, {\"model\": \"Baseline\", \"epoch\": 5.0, \"metric\": \"recall\", \"value\": 0.566126013724267}, {\"model\": \"Baseline\", \"epoch\": 6.0, \"metric\": \"recall\", \"value\": 0.5648783530879601}, {\"model\": \"Baseline\", \"epoch\": 7.0, \"metric\": \"recall\", \"value\": 0.5539613225202745}, {\"model\": \"Baseline\", \"epoch\": 8.0, \"metric\": \"recall\", \"value\": 0.5573923892701186}, {\"model\": \"Baseline\", \"epoch\": 9.0, \"metric\": \"recall\", \"value\": 0.5577043044291953}, {\"model\": \"Baseline\", \"epoch\": 10.0, \"metric\": \"recall\", \"value\": 0.5552089831565814}, {\"model\": \"PSRN\", \"epoch\": 1.0, \"metric\": \"recall\", \"value\": 0.5455396132252027}, {\"model\": \"PSRN\", \"epoch\": 2.0, \"metric\": \"recall\", \"value\": 0.533686837180287}, {\"model\": \"PSRN\", \"epoch\": 3.0, \"metric\": \"recall\", \"value\": 0.5383655645664379}, {\"model\": \"PSRN\", \"epoch\": 4.0, \"metric\": \"recall\", \"value\": 0.5205864004990642}, {\"model\": \"PSRN\", \"epoch\": 5.0, \"metric\": \"recall\", \"value\": 0.5268247036805989}, {\"model\": \"PSRN\", \"epoch\": 6.0, \"metric\": \"recall\", \"value\": 0.5171553337492202}, {\"model\": \"PSRN\", \"epoch\": 7.0, \"metric\": \"recall\", \"value\": 0.53243917654398}, {\"model\": \"PSRN\", \"epoch\": 8.0, \"metric\": \"recall\", \"value\": 0.5171553337492202}, {\"model\": \"PSRN\", \"epoch\": 9.0, \"metric\": \"recall\", \"value\": 0.5346225826575172}, {\"model\": \"PSRN\", \"epoch\": 10.0, \"metric\": \"recall\", \"value\": 0.5299438552713662}, {\"model\": \"EWN\", \"epoch\": 1.0, \"metric\": \"recall\", \"value\": 0.5492825951341235}, {\"model\": \"EWN\", \"epoch\": 2.0, \"metric\": \"recall\", \"value\": 0.5421085464753587}, {\"model\": \"EWN\", \"epoch\": 3.0, \"metric\": \"recall\", \"value\": 0.5474111041796631}, {\"model\": \"EWN\", \"epoch\": 4.0, \"metric\": \"recall\", \"value\": 0.5246412975670618}, {\"model\": \"EWN\", \"epoch\": 5.0, \"metric\": \"recall\", \"value\": 0.5240174672489083}, {\"model\": \"EWN\", \"epoch\": 6.0, \"metric\": \"recall\", \"value\": 0.5224578914535246}, {\"model\": \"EWN\", \"epoch\": 7.0, \"metric\": \"recall\", \"value\": 0.5199625701809107}, {\"model\": \"EWN\", \"epoch\": 8.0, \"metric\": \"recall\", \"value\": 0.5262008733624454}, {\"model\": \"EWN\", \"epoch\": 9.0, \"metric\": \"recall\", \"value\": 0.527760449157829}, {\"model\": \"EWN\", \"epoch\": 10.0, \"metric\": \"recall\", \"value\": 0.5246412975670618}, {\"model\": \"EWN tagged\", \"epoch\": 1.0, \"metric\": \"recall\", \"value\": 0.5639426076107299}, {\"model\": \"EWN tagged\", \"epoch\": 2.0, \"metric\": \"recall\", \"value\": 0.5698689956331878}, {\"model\": \"EWN tagged\", \"epoch\": 3.0, \"metric\": \"recall\", \"value\": 0.5676855895196506}, {\"model\": \"EWN tagged\", \"epoch\": 4.0, \"metric\": \"recall\", \"value\": 0.5611353711790393}, {\"model\": \"EWN tagged\", \"epoch\": 5.0, \"metric\": \"recall\", \"value\": 0.5608234560199625}, {\"model\": \"PSRN tagged\", \"epoch\": 1.0, \"metric\": \"recall\", \"value\": 0.559263880224579}, {\"model\": \"PSRN tagged\", \"epoch\": 2.0, \"metric\": \"recall\", \"value\": 0.570804741110418}, {\"model\": \"PSRN tagged\", \"epoch\": 3.0, \"metric\": \"recall\", \"value\": 0.5573923892701186}, {\"model\": \"PSRN tagged\", \"epoch\": 4.0, \"metric\": \"recall\", \"value\": 0.5483468496568933}, {\"model\": \"PSRN tagged\", \"epoch\": 5.0, \"metric\": \"recall\", \"value\": 0.5586400499064255}, {\"model\": \"Baseline tagged\", \"epoch\": 1.0, \"metric\": \"recall\", \"value\": 0.5698689956331878}, {\"model\": \"Baseline tagged\", \"epoch\": 2.0, \"metric\": \"recall\", \"value\": 0.5935745477230193}, {\"model\": \"Baseline tagged\", \"epoch\": 3.0, \"metric\": \"recall\", \"value\": 0.5786026200873362}, {\"model\": \"Baseline tagged\", \"epoch\": 4.0, \"metric\": \"recall\", \"value\": 0.5726762320648784}, {\"model\": \"Baseline tagged\", \"epoch\": 5.0, \"metric\": \"recall\", \"value\": 0.5820336868371803}, {\"model\": \"DN tagged\", \"epoch\": 1.0, \"metric\": \"recall\", \"value\": 0.586073500967118}, {\"model\": \"DN tagged\", \"epoch\": 2.0, \"metric\": \"recall\", \"value\": 0.5764023210831721}, {\"model\": \"DN tagged\", \"epoch\": 3.0, \"metric\": \"recall\", \"value\": 0.5802707930367504}, {\"model\": \"DN tagged\", \"epoch\": 4.0, \"metric\": \"recall\", \"value\": 0.5570599613152805}, {\"model\": \"DN tagged\", \"epoch\": 5.0, \"metric\": \"recall\", \"value\": 0.5686653771760155}, {\"model\": \"DN tagged\", \"epoch\": 6.0, \"metric\": \"recall\", \"value\": 0.5551257253384912}, {\"model\": \"DN tagged\", \"epoch\": 7.0, \"metric\": \"recall\", \"value\": 0.5551257253384912}, {\"model\": \"DN tagged\", \"epoch\": 8.0, \"metric\": \"recall\", \"value\": 0.5686653771760155}, {\"model\": \"DN tagged\", \"epoch\": 9.0, \"metric\": \"recall\", \"value\": 0.5570599613152805}, {\"model\": \"DN tagged\", \"epoch\": 10.0, \"metric\": \"recall\", \"value\": 0.562862669245648}, {\"model\": \"EWN tagged no stopwords\", \"epoch\": 1.0, \"metric\": \"recall\", \"value\": 0.5511540860885838}, {\"model\": \"EWN tagged no stopwords\", \"epoch\": 2.0, \"metric\": \"recall\", \"value\": 0.5464753587024329}, {\"model\": \"PSRN tagged no stopwords\", \"epoch\": 1.0, \"metric\": \"recall\", \"value\": 0.533686837180287}, {\"model\": \"PSRN tagged no stopwords\", \"epoch\": 2.0, \"metric\": \"recall\", \"value\": 0.5508421709295072}, {\"model\": \"DN tagged no stopwords\", \"epoch\": 1.0, \"metric\": \"recall\", \"value\": 0.6112185686653772}, {\"model\": \"DN tagged no stopwords\", \"epoch\": 2.0, \"metric\": \"recall\", \"value\": 0.6112185686653772}, {\"model\": \"DN tagged no stopwords\", \"epoch\": 3.0, \"metric\": \"recall\", \"value\": 0.5841392649903289}, {\"model\": \"DN tagged no stopwords\", \"epoch\": 4.0, \"metric\": \"recall\", \"value\": 0.5938104448742747}, {\"model\": \"DN tagged no stopwords\", \"epoch\": 5.0, \"metric\": \"recall\", \"value\": 0.5512572533849129}, {\"model\": \"DN tagged no stopwords\", \"epoch\": 6.0, \"metric\": \"recall\", \"value\": 0.574468085106383}, {\"model\": \"DN tagged no stopwords\", \"epoch\": 7.0, \"metric\": \"recall\", \"value\": 0.5589941972920697}, {\"model\": \"DN tagged no stopwords\", \"epoch\": 8.0, \"metric\": \"recall\", \"value\": 0.5609284332688588}, {\"model\": \"DN tagged no stopwords\", \"epoch\": 9.0, \"metric\": \"recall\", \"value\": 0.5493230174081238}, {\"model\": \"DN tagged no stopwords\", \"epoch\": 10.0, \"metric\": \"recall\", \"value\": 0.5647969052224371}, {\"model\": \"Baseline tagged no stopwords\", \"epoch\": 1.0, \"metric\": \"recall\", \"value\": 0.5514660012476607}, {\"model\": \"Baseline tagged no stopwords\", \"epoch\": 2.0, \"metric\": \"recall\", \"value\": 0.5648783530879601}, {\"model\": \"Baseline tagged no stopwords\", \"epoch\": 3.0, \"metric\": \"recall\", \"value\": 0.5630068621334997}, {\"model\": \"Baseline tagged no stopwords\", \"epoch\": 4.0, \"metric\": \"recall\", \"value\": 0.5605115408608858}, {\"model\": \"Baseline tagged no stopwords\", \"epoch\": 5.0, \"metric\": \"recall\", \"value\": 0.5676855895196506}, {\"model\": \"Baseline\", \"epoch\": 1.0, \"metric\": \"macro f1\", \"value\": 0.4315668905772694}, {\"model\": \"Baseline\", \"epoch\": 2.0, \"metric\": \"macro f1\", \"value\": 0.483278970457373}, {\"model\": \"Baseline\", \"epoch\": 3.0, \"metric\": \"macro f1\", \"value\": 0.477157042522623}, {\"model\": \"Baseline\", \"epoch\": 4.0, \"metric\": \"macro f1\", \"value\": 0.459205086930347}, {\"model\": \"Baseline\", \"epoch\": 5.0, \"metric\": \"macro f1\", \"value\": 0.4524553373774147}, {\"model\": \"Baseline\", \"epoch\": 6.0, \"metric\": \"macro f1\", \"value\": 0.4581414871219808}, {\"model\": \"Baseline\", \"epoch\": 7.0, \"metric\": \"macro f1\", \"value\": 0.4535857839952609}, {\"model\": \"Baseline\", \"epoch\": 8.0, \"metric\": \"macro f1\", \"value\": 0.4559099210983406}, {\"model\": \"Baseline\", \"epoch\": 9.0, \"metric\": \"macro f1\", \"value\": 0.4534601973497401}, {\"model\": \"Baseline\", \"epoch\": 10.0, \"metric\": \"macro f1\", \"value\": 0.4584293092700988}, {\"model\": \"PSRN\", \"epoch\": 1.0, \"metric\": \"macro f1\", \"value\": 0.2660236558412899}, {\"model\": \"PSRN\", \"epoch\": 2.0, \"metric\": \"macro f1\", \"value\": 0.4168101505119305}, {\"model\": \"PSRN\", \"epoch\": 3.0, \"metric\": \"macro f1\", \"value\": 0.4343140389022443}, {\"model\": \"PSRN\", \"epoch\": 4.0, \"metric\": \"macro f1\", \"value\": 0.4066726050999148}, {\"model\": \"PSRN\", \"epoch\": 5.0, \"metric\": \"macro f1\", \"value\": 0.4182481128534865}, {\"model\": \"PSRN\", \"epoch\": 6.0, \"metric\": \"macro f1\", \"value\": 0.408541941437061}, {\"model\": \"PSRN\", \"epoch\": 7.0, \"metric\": \"macro f1\", \"value\": 0.4139389057042517}, {\"model\": \"PSRN\", \"epoch\": 8.0, \"metric\": \"macro f1\", \"value\": 0.4155542247974828}, {\"model\": \"PSRN\", \"epoch\": 9.0, \"metric\": \"macro f1\", \"value\": 0.4138005353595711}, {\"model\": \"PSRN\", \"epoch\": 10.0, \"metric\": \"macro f1\", \"value\": 0.4192480562735722}, {\"model\": \"EWN\", \"epoch\": 1.0, \"metric\": \"macro f1\", \"value\": 0.3421797177418851}, {\"model\": \"EWN\", \"epoch\": 2.0, \"metric\": \"macro f1\", \"value\": 0.4181658557349619}, {\"model\": \"EWN\", \"epoch\": 3.0, \"metric\": \"macro f1\", \"value\": 0.4298854050925422}, {\"model\": \"EWN\", \"epoch\": 4.0, \"metric\": \"macro f1\", \"value\": 0.4265334484031191}, {\"model\": \"EWN\", \"epoch\": 5.0, \"metric\": \"macro f1\", \"value\": 0.4345486872021428}, {\"model\": \"EWN\", \"epoch\": 6.0, \"metric\": \"macro f1\", \"value\": 0.4366027203491375}, {\"model\": \"EWN\", \"epoch\": 7.0, \"metric\": \"macro f1\", \"value\": 0.4332758040297697}, {\"model\": \"EWN\", \"epoch\": 8.0, \"metric\": \"macro f1\", \"value\": 0.424520810518344}, {\"model\": \"EWN\", \"epoch\": 9.0, \"metric\": \"macro f1\", \"value\": 0.425864077622882}, {\"model\": \"EWN\", \"epoch\": 10.0, \"metric\": \"macro f1\", \"value\": 0.4326442037943855}, {\"model\": \"EWN tagged\", \"epoch\": 1.0, \"metric\": \"macro f1\", \"value\": 0.3846701327062806}, {\"model\": \"EWN tagged\", \"epoch\": 2.0, \"metric\": \"macro f1\", \"value\": 0.4808115470461283}, {\"model\": \"EWN tagged\", \"epoch\": 3.0, \"metric\": \"macro f1\", \"value\": 0.4894623930375256}, {\"model\": \"EWN tagged\", \"epoch\": 4.0, \"metric\": \"macro f1\", \"value\": 0.4664627434243673}, {\"model\": \"EWN tagged\", \"epoch\": 5.0, \"metric\": \"macro f1\", \"value\": 0.470197148071513}, {\"model\": \"PSRN tagged\", \"epoch\": 1.0, \"metric\": \"macro f1\", \"value\": 0.3924738575003423}, {\"model\": \"PSRN tagged\", \"epoch\": 2.0, \"metric\": \"macro f1\", \"value\": 0.4651270511247743}, {\"model\": \"PSRN tagged\", \"epoch\": 3.0, \"metric\": \"macro f1\", \"value\": 0.4682797156083605}, {\"model\": \"PSRN tagged\", \"epoch\": 4.0, \"metric\": \"macro f1\", \"value\": 0.4570506189184738}, {\"model\": \"PSRN tagged\", \"epoch\": 5.0, \"metric\": \"macro f1\", \"value\": 0.4599963423584198}, {\"model\": \"Baseline tagged\", \"epoch\": 1.0, \"metric\": \"macro f1\", \"value\": 0.4455405348512238}, {\"model\": \"Baseline tagged\", \"epoch\": 2.0, \"metric\": \"macro f1\", \"value\": 0.4986903531402751}, {\"model\": \"Baseline tagged\", \"epoch\": 3.0, \"metric\": \"macro f1\", \"value\": 0.5052233432641241}, {\"model\": \"Baseline tagged\", \"epoch\": 4.0, \"metric\": \"macro f1\", \"value\": 0.4861316308002325}, {\"model\": \"Baseline tagged\", \"epoch\": 5.0, \"metric\": \"macro f1\", \"value\": 0.4914471956856031}, {\"model\": \"DN tagged\", \"epoch\": 1.0, \"metric\": \"macro f1\", \"value\": 0.1847560975609756}, {\"model\": \"DN tagged\", \"epoch\": 2.0, \"metric\": \"macro f1\", \"value\": 0.235416447884832}, {\"model\": \"DN tagged\", \"epoch\": 3.0, \"metric\": \"macro f1\", \"value\": 0.3011618252303688}, {\"model\": \"DN tagged\", \"epoch\": 4.0, \"metric\": \"macro f1\", \"value\": 0.3660828338126422}, {\"model\": \"DN tagged\", \"epoch\": 5.0, \"metric\": \"macro f1\", \"value\": 0.3566969956191513}, {\"model\": \"DN tagged\", \"epoch\": 6.0, \"metric\": \"macro f1\", \"value\": 0.3947577339763752}, {\"model\": \"DN tagged\", \"epoch\": 7.0, \"metric\": \"macro f1\", \"value\": 0.3896675597694736}, {\"model\": \"DN tagged\", \"epoch\": 8.0, \"metric\": \"macro f1\", \"value\": 0.3818362574303536}, {\"model\": \"DN tagged\", \"epoch\": 9.0, \"metric\": \"macro f1\", \"value\": 0.3822952487227953}, {\"model\": \"DN tagged\", \"epoch\": 10.0, \"metric\": \"macro f1\", \"value\": 0.3862360839884499}, {\"model\": \"EWN tagged no stopwords\", \"epoch\": 1.0, \"metric\": \"macro f1\", \"value\": 0.3202376973771165}, {\"model\": \"EWN tagged no stopwords\", \"epoch\": 2.0, \"metric\": \"macro f1\", \"value\": 0.3779347979791821}, {\"model\": \"PSRN tagged no stopwords\", \"epoch\": 1.0, \"metric\": \"macro f1\", \"value\": 0.246651557235857}, {\"model\": \"PSRN tagged no stopwords\", \"epoch\": 2.0, \"metric\": \"macro f1\", \"value\": 0.3401406651921045}, {\"model\": \"DN tagged no stopwords\", \"epoch\": 1.0, \"metric\": \"macro f1\", \"value\": 0.1896758703481392}, {\"model\": \"DN tagged no stopwords\", \"epoch\": 2.0, \"metric\": \"macro f1\", \"value\": 0.1936051899907321}, {\"model\": \"DN tagged no stopwords\", \"epoch\": 3.0, \"metric\": \"macro f1\", \"value\": 0.2940022481762252}, {\"model\": \"DN tagged no stopwords\", \"epoch\": 4.0, \"metric\": \"macro f1\", \"value\": 0.3182338505083398}, {\"model\": \"DN tagged no stopwords\", \"epoch\": 5.0, \"metric\": \"macro f1\", \"value\": 0.3373687256673497}, {\"model\": \"DN tagged no stopwords\", \"epoch\": 6.0, \"metric\": \"macro f1\", \"value\": 0.2988240947395102}, {\"model\": \"DN tagged no stopwords\", \"epoch\": 7.0, \"metric\": \"macro f1\", \"value\": 0.3479077943518713}, {\"model\": \"DN tagged no stopwords\", \"epoch\": 8.0, \"metric\": \"macro f1\", \"value\": 0.3370742687439603}, {\"model\": \"DN tagged no stopwords\", \"epoch\": 9.0, \"metric\": \"macro f1\", \"value\": 0.3499376501694894}, {\"model\": \"DN tagged no stopwords\", \"epoch\": 10.0, \"metric\": \"macro f1\", \"value\": 0.3671575878165404}, {\"model\": \"Baseline tagged no stopwords\", \"epoch\": 1.0, \"metric\": \"macro f1\", \"value\": 0.39894065996904}, {\"model\": \"Baseline tagged no stopwords\", \"epoch\": 2.0, \"metric\": \"macro f1\", \"value\": 0.4633205478865688}, {\"model\": \"Baseline tagged no stopwords\", \"epoch\": 3.0, \"metric\": \"macro f1\", \"value\": 0.4597256810406277}, {\"model\": \"Baseline tagged no stopwords\", \"epoch\": 4.0, \"metric\": \"macro f1\", \"value\": 0.4585039771768572}, {\"model\": \"Baseline tagged no stopwords\", \"epoch\": 5.0, \"metric\": \"macro f1\", \"value\": 0.4589360323224269}, {\"model\": \"Baseline\", \"epoch\": 1.0, \"metric\": \"f1\", \"value\": 0.5412176223817634}, {\"model\": \"Baseline\", \"epoch\": 2.0, \"metric\": \"f1\", \"value\": 0.5716915746126902}, {\"model\": \"Baseline\", \"epoch\": 3.0, \"metric\": \"f1\", \"value\": 0.5651306300888512}, {\"model\": \"Baseline\", \"epoch\": 4.0, \"metric\": \"f1\", \"value\": 0.5409594409963192}, {\"model\": \"Baseline\", \"epoch\": 5.0, \"metric\": \"f1\", \"value\": 0.5483443191830463}, {\"model\": \"Baseline\", \"epoch\": 6.0, \"metric\": \"f1\", \"value\": 0.5529009157279847}, {\"model\": \"Baseline\", \"epoch\": 7.0, \"metric\": \"f1\", \"value\": 0.5471052121479397}, {\"model\": \"Baseline\", \"epoch\": 8.0, \"metric\": \"f1\", \"value\": 0.5478798880978365}, {\"model\": \"Baseline\", \"epoch\": 9.0, \"metric\": \"f1\", \"value\": 0.5466049018310791}, {\"model\": \"Baseline\", \"epoch\": 10.0, \"metric\": \"f1\", \"value\": 0.547790729022818}, {\"model\": \"PSRN\", \"epoch\": 1.0, \"metric\": \"f1\", \"value\": 0.4578671447036262}, {\"model\": \"PSRN\", \"epoch\": 2.0, \"metric\": \"f1\", \"value\": 0.5217144315431479}, {\"model\": \"PSRN\", \"epoch\": 3.0, \"metric\": \"f1\", \"value\": 0.5301348487692048}, {\"model\": \"PSRN\", \"epoch\": 4.0, \"metric\": \"f1\", \"value\": 0.5037263650948516}, {\"model\": \"PSRN\", \"epoch\": 5.0, \"metric\": \"f1\", \"value\": 0.5159727474968526}, {\"model\": \"PSRN\", \"epoch\": 6.0, \"metric\": \"f1\", \"value\": 0.5133080601377287}, {\"model\": \"PSRN\", \"epoch\": 7.0, \"metric\": \"f1\", \"value\": 0.5183513799495223}, {\"model\": \"PSRN\", \"epoch\": 8.0, \"metric\": \"f1\", \"value\": 0.5133696799974045}, {\"model\": \"PSRN\", \"epoch\": 9.0, \"metric\": \"f1\", \"value\": 0.5211894860175558}, {\"model\": \"PSRN\", \"epoch\": 10.0, \"metric\": \"f1\", \"value\": 0.5218159397537753}, {\"model\": \"EWN\", \"epoch\": 1.0, \"metric\": \"f1\", \"value\": 0.4911114269687888}, {\"model\": \"EWN\", \"epoch\": 2.0, \"metric\": \"f1\", \"value\": 0.5266016916788733}, {\"model\": \"EWN\", \"epoch\": 3.0, \"metric\": \"f1\", \"value\": 0.5300339610123679}, {\"model\": \"EWN\", \"epoch\": 4.0, \"metric\": \"f1\", \"value\": 0.5188732773593179}, {\"model\": \"EWN\", \"epoch\": 5.0, \"metric\": \"f1\", \"value\": 0.5224976587262354}, {\"model\": \"EWN\", \"epoch\": 6.0, \"metric\": \"f1\", \"value\": 0.5207622319691472}, {\"model\": \"EWN\", \"epoch\": 7.0, \"metric\": \"f1\", \"value\": 0.5202701091499432}, {\"model\": \"EWN\", \"epoch\": 8.0, \"metric\": \"f1\", \"value\": 0.5182312442932682}, {\"model\": \"EWN\", \"epoch\": 9.0, \"metric\": \"f1\", \"value\": 0.5190537413240538}, {\"model\": \"EWN\", \"epoch\": 10.0, \"metric\": \"f1\", \"value\": 0.5201216049569252}, {\"model\": \"EWN tagged\", \"epoch\": 1.0, \"metric\": \"f1\", \"value\": 0.5181119535762752}, {\"model\": \"EWN tagged\", \"epoch\": 2.0, \"metric\": \"f1\", \"value\": 0.5638099455352094}, {\"model\": \"EWN tagged\", \"epoch\": 3.0, \"metric\": \"f1\", \"value\": 0.565820359987216}, {\"model\": \"EWN tagged\", \"epoch\": 4.0, \"metric\": \"f1\", \"value\": 0.5523238127026842}, {\"model\": \"EWN tagged\", \"epoch\": 5.0, \"metric\": \"f1\", \"value\": 0.5541978194881327}, {\"model\": \"PSRN tagged\", \"epoch\": 1.0, \"metric\": \"f1\", \"value\": 0.5006551650380716}, {\"model\": \"PSRN tagged\", \"epoch\": 2.0, \"metric\": \"f1\", \"value\": 0.5616137154909063}, {\"model\": \"PSRN tagged\", \"epoch\": 3.0, \"metric\": \"f1\", \"value\": 0.5544994078870417}, {\"model\": \"PSRN tagged\", \"epoch\": 4.0, \"metric\": \"f1\", \"value\": 0.5405295156020858}, {\"model\": \"PSRN tagged\", \"epoch\": 5.0, \"metric\": \"f1\", \"value\": 0.5520512425318324}, {\"model\": \"Baseline tagged\", \"epoch\": 1.0, \"metric\": \"f1\", \"value\": 0.5435482329831194}, {\"model\": \"Baseline tagged\", \"epoch\": 2.0, \"metric\": \"f1\", \"value\": 0.5891990655770556}, {\"model\": \"Baseline tagged\", \"epoch\": 3.0, \"metric\": \"f1\", \"value\": 0.5813868393770047}, {\"model\": \"Baseline tagged\", \"epoch\": 4.0, \"metric\": \"f1\", \"value\": 0.5704170525474976}, {\"model\": \"Baseline tagged\", \"epoch\": 5.0, \"metric\": \"f1\", \"value\": 0.5785161036548613}, {\"model\": \"DN tagged\", \"epoch\": 1.0, \"metric\": \"f1\", \"value\": 0.4331226116903335}, {\"model\": \"DN tagged\", \"epoch\": 2.0, \"metric\": \"f1\", \"value\": 0.4733790412201622}, {\"model\": \"DN tagged\", \"epoch\": 3.0, \"metric\": \"f1\", \"value\": 0.5163038217073878}, {\"model\": \"DN tagged\", \"epoch\": 4.0, \"metric\": \"f1\", \"value\": 0.5391931191302647}, {\"model\": \"DN tagged\", \"epoch\": 5.0, \"metric\": \"f1\", \"value\": 0.5374159215042246}, {\"model\": \"DN tagged\", \"epoch\": 6.0, \"metric\": \"f1\", \"value\": 0.543961074741382}, {\"model\": \"DN tagged\", \"epoch\": 7.0, \"metric\": \"f1\", \"value\": 0.5418559859526911}, {\"model\": \"DN tagged\", \"epoch\": 8.0, \"metric\": \"f1\", \"value\": 0.5455855142475158}, {\"model\": \"DN tagged\", \"epoch\": 9.0, \"metric\": \"f1\", \"value\": 0.5414612063105608}, {\"model\": \"DN tagged\", \"epoch\": 10.0, \"metric\": \"f1\", \"value\": 0.5457649165112753}, {\"model\": \"EWN tagged no stopwords\", \"epoch\": 1.0, \"metric\": \"f1\", \"value\": 0.4831581612757074}, {\"model\": \"EWN tagged no stopwords\", \"epoch\": 2.0, \"metric\": \"f1\", \"value\": 0.5119931414077725}, {\"model\": \"PSRN tagged no stopwords\", \"epoch\": 1.0, \"metric\": \"f1\", \"value\": 0.4394597630466458}, {\"model\": \"PSRN tagged no stopwords\", \"epoch\": 2.0, \"metric\": \"f1\", \"value\": 0.5109613060288064}, {\"model\": \"DN tagged no stopwords\", \"epoch\": 1.0, \"metric\": \"f1\", \"value\": 0.4637336559381973}, {\"model\": \"DN tagged no stopwords\", \"epoch\": 2.0, \"metric\": \"f1\", \"value\": 0.4677161853783232}, {\"model\": \"DN tagged no stopwords\", \"epoch\": 3.0, \"metric\": \"f1\", \"value\": 0.5476403397862869}, {\"model\": \"DN tagged no stopwords\", \"epoch\": 4.0, \"metric\": \"f1\", \"value\": 0.5498184654162838}, {\"model\": \"DN tagged no stopwords\", \"epoch\": 5.0, \"metric\": \"f1\", \"value\": 0.5394551811204177}, {\"model\": \"DN tagged no stopwords\", \"epoch\": 6.0, \"metric\": \"f1\", \"value\": 0.5328132863120888}, {\"model\": \"DN tagged no stopwords\", \"epoch\": 7.0, \"metric\": \"f1\", \"value\": 0.5494318239382925}, {\"model\": \"DN tagged no stopwords\", \"epoch\": 8.0, \"metric\": \"f1\", \"value\": 0.5478739641801703}, {\"model\": \"DN tagged no stopwords\", \"epoch\": 9.0, \"metric\": \"f1\", \"value\": 0.5438224852016822}, {\"model\": \"DN tagged no stopwords\", \"epoch\": 10.0, \"metric\": \"f1\", \"value\": 0.5522710715172984}, {\"model\": \"Baseline tagged no stopwords\", \"epoch\": 1.0, \"metric\": \"f1\", \"value\": 0.5148519455261101}, {\"model\": \"Baseline tagged no stopwords\", \"epoch\": 2.0, \"metric\": \"f1\", \"value\": 0.5591517624050263}, {\"model\": \"Baseline tagged no stopwords\", \"epoch\": 3.0, \"metric\": \"f1\", \"value\": 0.5559062835691457}, {\"model\": \"Baseline tagged no stopwords\", \"epoch\": 4.0, \"metric\": \"f1\", \"value\": 0.5523719307430579}, {\"model\": \"Baseline tagged no stopwords\", \"epoch\": 5.0, \"metric\": \"f1\", \"value\": 0.559882978100444}]}}, {\"mode\": \"vega-lite\"});\n",
       "</script>"
      ],
      "text/plain": [
       "alt.LayerChart(...)"
      ]
     },
     "execution_count": 41,
     "metadata": {},
     "output_type": "execute_result"
    }
   ],
   "source": [
    "chart = dynamic_graph(all_files_df)\n",
    "chart"
   ]
  }
 ],
 "metadata": {
  "kernelspec": {
   "display_name": "ML",
   "language": "python",
   "name": "python3"
  },
  "language_info": {
   "codemirror_mode": {
    "name": "ipython",
    "version": 3
   },
   "file_extension": ".py",
   "mimetype": "text/x-python",
   "name": "python",
   "nbconvert_exporter": "python",
   "pygments_lexer": "ipython3",
   "version": "3.9.7"
  },
  "orig_nbformat": 4
 },
 "nbformat": 4,
 "nbformat_minor": 2
}
