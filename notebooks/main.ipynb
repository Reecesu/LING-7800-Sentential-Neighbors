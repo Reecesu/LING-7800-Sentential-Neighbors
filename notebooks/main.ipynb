{
  "cells": [
    {
      "attachments": {},
      "cell_type": "markdown",
      "metadata": {
        "id": "QpNsdvIgG6WM"
      },
      "source": [
        "# Sentential Relation Prediction\n",
        "*LING 7800: Computational Models of Discourse*\n",
        "\n",
        "To incorporate context in the task of sentence relation prediction we offer two new approaches: \n",
        "1. Expanded Window Neighbors (EWNs)\n",
        "2. Part Smart Random Neighbors (PSRNs)\n",
        "\n",
        "EWN incorporate extra sentences before and after our target sentences. PSRNs ignore direct neighbors and instead propose a random selection of preceding and following sentences to predict the target relation."
      ]
    },
    {
      "cell_type": "code",
      "execution_count": 1,
      "metadata": {
        "id": "IUNdpJo7G_yR"
      },
      "outputs": [],
      "source": [
        "import torch\n",
        "import pandas as pd\n",
        "import numpy as np\n",
        "import warnings\n",
        "\n",
        "from util import *\n",
        "from sklearn.model_selection import train_test_split\n",
        "from gensim.parsing.preprocessing import remove_stopwords\n",
        "\n",
        "from sklearn.metrics import accuracy_score, f1_score, recall_score, precision_score\n",
        "from transformers import AutoTokenizer, AutoModelForSequenceClassification, Trainer, TrainingArguments\n",
        "\n",
        "warnings.filterwarnings('ignore')"
      ]
    },
    {
      "attachments": {},
      "cell_type": "markdown",
      "metadata": {},
      "source": [
        "    auto-reload util.py functions with the next cell:"
      ]
    },
    {
      "cell_type": "code",
      "execution_count": 2,
      "metadata": {},
      "outputs": [],
      "source": [
        "%load_ext autoreload\n",
        "%autoreload 2"
      ]
    },
    {
      "cell_type": "markdown",
      "metadata": {
        "id": "4EJhA7PLHXrg"
      },
      "source": [
        "### Data Pre-Processing\n",
        "\n",
        "    The following commented cell is for turning the piped PDTB into a CSV format. The piped PDTB files are created with the convert.pl PERL script. The cell is no longer needed once you have the pdtb2.csv in your working directory!"
      ]
    },
    {
      "cell_type": "code",
      "execution_count": 3,
      "metadata": {
        "id": "BSqZ8pCUHawW"
      },
      "outputs": [],
      "source": [
        "# import os\n",
        "# import glob\n",
        "\n",
        "# # Turn pipe files into CSV\n",
        "# PATH = r\"C:/Users/sucho/OneDrive - UCB-O365/Desktop/Spring 2023/LING 7800/LING-7800-Term-Project/pdtb pipe\"\n",
        "# pdtb_files = glob.glob(os.path.join(PATH, \"*/*.pipe\"))\n",
        "# my_data = 'pdtb2.csv'\n",
        "\n",
        "# with open(my_data, 'w', encoding='utf-8') as output:\n",
        "#     for i in pdtb_files:\n",
        "#         with open(i, 'r', encoding='ISO-8859-1') as _input:\n",
        "#             for j in _input:\n",
        "#                 output.write(j)\n",
        "#             output.write('\\n')"
      ]
    },
    {
      "cell_type": "markdown",
      "metadata": {
        "id": "EbAy23p8Hfh3"
      },
      "source": [
        "Load Penn Discourse Tree Bank 2.0 to `my_data`, and assign column labels based on `COLUMN_DEFINITIONS` document."
      ]
    },
    {
      "cell_type": "code",
      "execution_count": 4,
      "metadata": {
        "colab": {
          "base_uri": "https://localhost:8080/"
        },
        "id": "1Bm2pFyZHfrG",
        "outputId": "de1460fc-e2b5-4bba-f657-22f332db755c"
      },
      "outputs": [
        {
          "name": "stderr",
          "output_type": "stream",
          "text": [
            "b'Skipping line 20149: expected 48 fields, saw 58\\n'\n"
          ]
        }
      ],
      "source": [
        "# (The 'pdtb2.csv' file is created with the previous cell)\n",
        "my_data = '../data/pdtb2.csv'\n",
        "\n",
        "# Column names were found in the COLUMN_DEFINITIONS file provided by the PDTB2\n",
        "COLUMN_DEFINITIONS = [\n",
        "    'Relation', 'SectionNumber', 'FileNumber', 'Connective_AltLex_SpanList', 'Connective_AltLex_GornAddressList',\n",
        "    'Connective_AltLex_RawText', 'String_position', 'SentenceNumber', 'ConnHead', 'Conn1', 'Conn2',\n",
        "    'ConnHeadSemClass1', '1st_Semantic_Class_1', '1st_Semantic_Class_2', '2nd_Semantic_Class_2',\n",
        "    'Relation_Attribution_Source', 'Relation_Attribution_Type', 'Relation_Attribution_Polarity',\n",
        "    'Relation_Attribution_Determinacy', 'Relation_Attribution_SpanList', 'Relation_Attribution_GornAddressList',\n",
        "    'Relation_Attribution_RawText', 'Arg1_SpanList', 'Arg1_GornAddress', 'S1', 'Arg1_Attribution_Source',\n",
        "    'Arg1_Attribution_Type', 'Arg1_Attribution_Polarity', 'Arg1_Attribution_Determinacy', 'Arg1_Attribution_SpanList',\n",
        "    'Arg1_Attribution_GornAddressList', 'Arg1_Attribution_RawText', 'Arg2_SpanList', 'Arg2_GornAddress', 'S2',\n",
        "    'Arg2_Attribution_Source', 'Arg2_Attribution_Type', 'Arg2_Attribution_Polarity', 'Arg2_Attribution_Determinacy',\n",
        "    'Arg2_Attribution_SpanList', 'Arg2_Attribution_GornAddressList', 'Arg2_Attribution_RawText', 'Sup1_SpanList',\n",
        "    'Sup1_GornAddress', 'Sup1_RawText', 'Sup2_SpanList', 'Sup2_GornAddress', 'Sup2_RawText'\n",
        "]\n",
        "\n",
        "# read_csv() my_data into a pandas DataFrame (PDTB encodings are ISO-8859-1)\n",
        "data = pd.read_csv(my_data, sep='|', encoding='ISO-8859-1', names=COLUMN_DEFINITIONS, error_bad_lines=False)"
      ]
    },
    {
      "cell_type": "markdown",
      "metadata": {
        "id": "UZJXQTBKH1XH"
      },
      "source": [
        "    Uncomment the following cell to view full PDTB dataset:"
      ]
    },
    {
      "cell_type": "code",
      "execution_count": 5,
      "metadata": {
        "id": "MDpzDJdxH2NK"
      },
      "outputs": [],
      "source": [
        "# pd.options.display.max_columns = 48\n",
        "# pd.set_option('display.max_colwidth', None)\n",
        "# data.head()"
      ]
    },
    {
      "cell_type": "markdown",
      "metadata": {
        "id": "3zBp5fZMH4a2"
      },
      "source": [
        "### Filter Data to Only Include Relevant Columns"
      ]
    },
    {
      "cell_type": "code",
      "execution_count": 6,
      "metadata": {
        "colab": {
          "base_uri": "https://localhost:8080/",
          "height": 389
        },
        "id": "quJodP2sH7Ly",
        "outputId": "87f7ca6f-c64a-42bc-b1b2-3bba4bcfc8b9"
      },
      "outputs": [
        {
          "data": {
            "text/html": [
              "<div>\n",
              "<style scoped>\n",
              "    .dataframe tbody tr th:only-of-type {\n",
              "        vertical-align: middle;\n",
              "    }\n",
              "\n",
              "    .dataframe tbody tr th {\n",
              "        vertical-align: top;\n",
              "    }\n",
              "\n",
              "    .dataframe thead th {\n",
              "        text-align: right;\n",
              "    }\n",
              "</style>\n",
              "<table border=\"1\" class=\"dataframe\">\n",
              "  <thead>\n",
              "    <tr style=\"text-align: right;\">\n",
              "      <th></th>\n",
              "      <th>Relation</th>\n",
              "      <th>SectionNumber</th>\n",
              "      <th>FileNumber</th>\n",
              "      <th>SentenceNumber</th>\n",
              "      <th>S1</th>\n",
              "      <th>S2</th>\n",
              "      <th>Level 1</th>\n",
              "      <th>Level 2</th>\n",
              "    </tr>\n",
              "  </thead>\n",
              "  <tbody>\n",
              "    <tr>\n",
              "      <th>4</th>\n",
              "      <td>Implicit</td>\n",
              "      <td>0</td>\n",
              "      <td>3</td>\n",
              "      <td>5</td>\n",
              "      <td>This is an old story</td>\n",
              "      <td>We're talking about years ago before anyone heard of asbestos having any questionable properties</td>\n",
              "      <td>Expansion</td>\n",
              "      <td>Restatement</td>\n",
              "    </tr>\n",
              "    <tr>\n",
              "      <th>5</th>\n",
              "      <td>Implicit</td>\n",
              "      <td>0</td>\n",
              "      <td>3</td>\n",
              "      <td>6</td>\n",
              "      <td>We're talking about years ago before anyone heard of asbestos having any questionable properties</td>\n",
              "      <td>There is no asbestos in our products now</td>\n",
              "      <td>Expansion</td>\n",
              "      <td>Conjunction</td>\n",
              "    </tr>\n",
              "    <tr>\n",
              "      <th>6</th>\n",
              "      <td>Implicit</td>\n",
              "      <td>0</td>\n",
              "      <td>3</td>\n",
              "      <td>8</td>\n",
              "      <td>Neither Lorillard nor the researchers who studied the workers were aware of any research on smokers of the Kent cigarettes</td>\n",
              "      <td>We have no useful information on whether users are at risk</td>\n",
              "      <td>Contingency</td>\n",
              "      <td>Cause</td>\n",
              "    </tr>\n",
              "    <tr>\n",
              "      <th>9</th>\n",
              "      <td>Implicit</td>\n",
              "      <td>0</td>\n",
              "      <td>3</td>\n",
              "      <td>13</td>\n",
              "      <td>Among 33 men who worked closely with the substance, 28 have died -- more than three times the expected number</td>\n",
              "      <td>Four of the five surviving workers have asbestos-related diseases, including three with recently diagnosed cancer</td>\n",
              "      <td>Expansion</td>\n",
              "      <td>Conjunction</td>\n",
              "    </tr>\n",
              "    <tr>\n",
              "      <th>10</th>\n",
              "      <td>Implicit</td>\n",
              "      <td>0</td>\n",
              "      <td>3</td>\n",
              "      <td>14</td>\n",
              "      <td>Among 33 men who worked closely with the substance, 28 have died -- more than three times the expected number.Four of the five surviving workers have asbestos-related diseases, including three with recently diagnosed cancer</td>\n",
              "      <td>The total of 18 deaths from malignant mesothelioma, lung cancer and asbestosis was far higher than expected</td>\n",
              "      <td>Expansion</td>\n",
              "      <td>Conjunction</td>\n",
              "    </tr>\n",
              "  </tbody>\n",
              "</table>\n",
              "</div>"
            ],
            "text/plain": [
              "    Relation  SectionNumber  FileNumber SentenceNumber  \\\n",
              "4   Implicit              0           3              5   \n",
              "5   Implicit              0           3              6   \n",
              "6   Implicit              0           3              8   \n",
              "9   Implicit              0           3             13   \n",
              "10  Implicit              0           3             14   \n",
              "\n",
              "                                                                                                                                                                                                                                 S1  \\\n",
              "4                                                                                                                                                                                                              This is an old story   \n",
              "5                                                                                                                                  We're talking about years ago before anyone heard of asbestos having any questionable properties   \n",
              "6                                                                                                        Neither Lorillard nor the researchers who studied the workers were aware of any research on smokers of the Kent cigarettes   \n",
              "9                                                                                                                     Among 33 men who worked closely with the substance, 28 have died -- more than three times the expected number   \n",
              "10  Among 33 men who worked closely with the substance, 28 have died -- more than three times the expected number.Four of the five surviving workers have asbestos-related diseases, including three with recently diagnosed cancer   \n",
              "\n",
              "                                                                                                                   S2  \\\n",
              "4                    We're talking about years ago before anyone heard of asbestos having any questionable properties   \n",
              "5                                                                            There is no asbestos in our products now   \n",
              "6                                                          We have no useful information on whether users are at risk   \n",
              "9   Four of the five surviving workers have asbestos-related diseases, including three with recently diagnosed cancer   \n",
              "10        The total of 18 deaths from malignant mesothelioma, lung cancer and asbestosis was far higher than expected   \n",
              "\n",
              "        Level 1      Level 2  \n",
              "4     Expansion  Restatement  \n",
              "5     Expansion  Conjunction  \n",
              "6   Contingency        Cause  \n",
              "9     Expansion  Conjunction  \n",
              "10    Expansion  Conjunction  "
            ]
          },
          "execution_count": 6,
          "metadata": {},
          "output_type": "execute_result"
        }
      ],
      "source": [
        "# We are interested in the following columns:\n",
        "df = data[['Relation','SectionNumber','FileNumber','SentenceNumber','S1', 'S2', 'ConnHeadSemClass1']].dropna()\n",
        "\n",
        "# 'ConnHeadSemClass1' contains relation labels between Arg1 and Arg2. The levels are separated by a period.\n",
        "df = pd.concat([df, df['ConnHeadSemClass1'].str.split(\".\", expand=True)], axis=1)\n",
        "df['SentenceNumber'] = df['SentenceNumber'].astype(str).str[:-2]\n",
        "\n",
        "# Add the relation levels back to df, and then set the colmn names with .columns.\n",
        "df = df[['Relation','SectionNumber','FileNumber','SentenceNumber','S1', 'S2', 0, 1]]\n",
        "df.columns = ['Relation','SectionNumber','FileNumber', 'SentenceNumber', 'S1', 'S2', 'Level 1', 'Level 2']\n",
        "\n",
        "# Display the first 5 rows without any column width restrictions\n",
        "pd.set_option('display.max_colwidth', None)\n",
        "df[:5]"
      ]
    },
    {
      "cell_type": "markdown",
      "metadata": {
        "id": "p_iMXiOcIAAX"
      },
      "source": [
        "### Convert Labels to Integers"
      ]
    },
    {
      "cell_type": "code",
      "execution_count": 7,
      "metadata": {
        "colab": {
          "base_uri": "https://localhost:8080/"
        },
        "id": "LEWu9oyWIA32",
        "outputId": "859335b7-b423-455d-a726-79aca9234851"
      },
      "outputs": [
        {
          "name": "stdout",
          "output_type": "stream",
          "text": [
            "['Expansion' 'Contingency' 'Comparison' 'Temporal']\n",
            "['Restatement' 'Conjunction' 'Cause' None 'Contrast' 'Instantiation'\n",
            " 'Asynchronous' 'Alternative' 'Pragmatic cause' 'Concession' 'List'\n",
            " 'Synchrony' 'Exception' 'Pragmatic contrast' 'Pragmatic concession'\n",
            " 'Condition' 'Pragmatic condition']\n"
          ]
        }
      ],
      "source": [
        "# print all the unique values in 'Level 1'\n",
        "print(df['Level 1'].unique())\n",
        "\n",
        "# print all the unique values in 'Level 2'\n",
        "print(df['Level 2'].unique())"
      ]
    },
    {
      "cell_type": "code",
      "execution_count": 8,
      "metadata": {
        "id": "XWAs2uLdIDVR"
      },
      "outputs": [],
      "source": [
        "level_1_map = {\n",
        "    'Temporal': 0,\n",
        "    'Contingency': 1,\n",
        "    'Comparison': 2,\n",
        "    'Expansion': 3\n",
        "}\n",
        "\n",
        "level_2_map = {\n",
        "    'Restatement': 0,\n",
        "    'Conjunction': 1,\n",
        "    'Cause': 2,\n",
        "    'Contrast': 3,\n",
        "    'Instantiation': 4,\n",
        "    'Asynchronous': 5,\n",
        "    'Alternative': 6,\n",
        "    'Pragmatic cause': 7,\n",
        "    'Concession': 8,\n",
        "    'List': 9,\n",
        "    'Synchrony': 10,\n",
        "    'Exception': 11,\n",
        "    'Pragmatic contrast': 12,\n",
        "    'Pragmatic concession': 13,\n",
        "    'Condition': 14,\n",
        "    'Pragmatic condition': 15,\n",
        "    None: 16\n",
        "\n",
        "}\n",
        "\n",
        "df['Level 1'] = df['Level 1'].map(level_1_map)\n",
        "df['Level 2'] = df['Level 2'].map(level_2_map)"
      ]
    },
    {
      "cell_type": "code",
      "execution_count": 9,
      "metadata": {
        "colab": {
          "base_uri": "https://localhost:8080/",
          "height": 372
        },
        "id": "v5eQJcs5IKdO",
        "outputId": "db71a739-b241-4065-f72a-b46cd8dd52a7"
      },
      "outputs": [
        {
          "data": {
            "text/html": [
              "<div>\n",
              "<style scoped>\n",
              "    .dataframe tbody tr th:only-of-type {\n",
              "        vertical-align: middle;\n",
              "    }\n",
              "\n",
              "    .dataframe tbody tr th {\n",
              "        vertical-align: top;\n",
              "    }\n",
              "\n",
              "    .dataframe thead th {\n",
              "        text-align: right;\n",
              "    }\n",
              "</style>\n",
              "<table border=\"1\" class=\"dataframe\">\n",
              "  <thead>\n",
              "    <tr style=\"text-align: right;\">\n",
              "      <th></th>\n",
              "      <th>Relation</th>\n",
              "      <th>SectionNumber</th>\n",
              "      <th>FileNumber</th>\n",
              "      <th>SentenceNumber</th>\n",
              "      <th>S1</th>\n",
              "      <th>S2</th>\n",
              "      <th>Level 1</th>\n",
              "      <th>Level 2</th>\n",
              "    </tr>\n",
              "  </thead>\n",
              "  <tbody>\n",
              "    <tr>\n",
              "      <th>4</th>\n",
              "      <td>Implicit</td>\n",
              "      <td>0</td>\n",
              "      <td>3</td>\n",
              "      <td>5</td>\n",
              "      <td>This is an old story</td>\n",
              "      <td>We're talking about years ago before anyone heard of asbestos having any questionable properties</td>\n",
              "      <td>3</td>\n",
              "      <td>0</td>\n",
              "    </tr>\n",
              "    <tr>\n",
              "      <th>5</th>\n",
              "      <td>Implicit</td>\n",
              "      <td>0</td>\n",
              "      <td>3</td>\n",
              "      <td>6</td>\n",
              "      <td>We're talking about years ago before anyone heard of asbestos having any questionable properties</td>\n",
              "      <td>There is no asbestos in our products now</td>\n",
              "      <td>3</td>\n",
              "      <td>1</td>\n",
              "    </tr>\n",
              "    <tr>\n",
              "      <th>6</th>\n",
              "      <td>Implicit</td>\n",
              "      <td>0</td>\n",
              "      <td>3</td>\n",
              "      <td>8</td>\n",
              "      <td>Neither Lorillard nor the researchers who studied the workers were aware of any research on smokers of the Kent cigarettes</td>\n",
              "      <td>We have no useful information on whether users are at risk</td>\n",
              "      <td>1</td>\n",
              "      <td>2</td>\n",
              "    </tr>\n",
              "    <tr>\n",
              "      <th>9</th>\n",
              "      <td>Implicit</td>\n",
              "      <td>0</td>\n",
              "      <td>3</td>\n",
              "      <td>13</td>\n",
              "      <td>Among 33 men who worked closely with the substance, 28 have died -- more than three times the expected number</td>\n",
              "      <td>Four of the five surviving workers have asbestos-related diseases, including three with recently diagnosed cancer</td>\n",
              "      <td>3</td>\n",
              "      <td>1</td>\n",
              "    </tr>\n",
              "    <tr>\n",
              "      <th>10</th>\n",
              "      <td>Implicit</td>\n",
              "      <td>0</td>\n",
              "      <td>3</td>\n",
              "      <td>14</td>\n",
              "      <td>Among 33 men who worked closely with the substance, 28 have died -- more than three times the expected number.Four of the five surviving workers have asbestos-related diseases, including three with recently diagnosed cancer</td>\n",
              "      <td>The total of 18 deaths from malignant mesothelioma, lung cancer and asbestosis was far higher than expected</td>\n",
              "      <td>3</td>\n",
              "      <td>1</td>\n",
              "    </tr>\n",
              "  </tbody>\n",
              "</table>\n",
              "</div>"
            ],
            "text/plain": [
              "    Relation  SectionNumber  FileNumber SentenceNumber  \\\n",
              "4   Implicit              0           3              5   \n",
              "5   Implicit              0           3              6   \n",
              "6   Implicit              0           3              8   \n",
              "9   Implicit              0           3             13   \n",
              "10  Implicit              0           3             14   \n",
              "\n",
              "                                                                                                                                                                                                                                 S1  \\\n",
              "4                                                                                                                                                                                                              This is an old story   \n",
              "5                                                                                                                                  We're talking about years ago before anyone heard of asbestos having any questionable properties   \n",
              "6                                                                                                        Neither Lorillard nor the researchers who studied the workers were aware of any research on smokers of the Kent cigarettes   \n",
              "9                                                                                                                     Among 33 men who worked closely with the substance, 28 have died -- more than three times the expected number   \n",
              "10  Among 33 men who worked closely with the substance, 28 have died -- more than three times the expected number.Four of the five surviving workers have asbestos-related diseases, including three with recently diagnosed cancer   \n",
              "\n",
              "                                                                                                                   S2  \\\n",
              "4                    We're talking about years ago before anyone heard of asbestos having any questionable properties   \n",
              "5                                                                            There is no asbestos in our products now   \n",
              "6                                                          We have no useful information on whether users are at risk   \n",
              "9   Four of the five surviving workers have asbestos-related diseases, including three with recently diagnosed cancer   \n",
              "10        The total of 18 deaths from malignant mesothelioma, lung cancer and asbestosis was far higher than expected   \n",
              "\n",
              "    Level 1  Level 2  \n",
              "4         3        0  \n",
              "5         3        1  \n",
              "6         1        2  \n",
              "9         3        1  \n",
              "10        3        1  "
            ]
          },
          "execution_count": 9,
          "metadata": {},
          "output_type": "execute_result"
        }
      ],
      "source": [
        "# I'm changing variable names to not overwrite the original df\n",
        "my_data_transformed = df\n",
        "my_data_transformed[:5]"
      ]
    },
    {
      "attachments": {},
      "cell_type": "markdown",
      "metadata": {
        "id": "Yk8bkQzBJ1Ka"
      },
      "source": [
        "## Remove stop words (... optional)"
      ]
    },
    {
      "cell_type": "code",
      "execution_count": 10,
      "metadata": {
        "colab": {
          "base_uri": "https://localhost:8080/",
          "height": 320
        },
        "id": "CuF_3bhqJ30u",
        "outputId": "cd4b11d1-9428-477e-e02e-e7569ff40b04"
      },
      "outputs": [
        {
          "data": {
            "text/html": [
              "<div>\n",
              "<style scoped>\n",
              "    .dataframe tbody tr th:only-of-type {\n",
              "        vertical-align: middle;\n",
              "    }\n",
              "\n",
              "    .dataframe tbody tr th {\n",
              "        vertical-align: top;\n",
              "    }\n",
              "\n",
              "    .dataframe thead th {\n",
              "        text-align: right;\n",
              "    }\n",
              "</style>\n",
              "<table border=\"1\" class=\"dataframe\">\n",
              "  <thead>\n",
              "    <tr style=\"text-align: right;\">\n",
              "      <th></th>\n",
              "      <th>Relation</th>\n",
              "      <th>SectionNumber</th>\n",
              "      <th>FileNumber</th>\n",
              "      <th>SentenceNumber</th>\n",
              "      <th>S1</th>\n",
              "      <th>S2</th>\n",
              "      <th>Level 1</th>\n",
              "      <th>Level 2</th>\n",
              "    </tr>\n",
              "  </thead>\n",
              "  <tbody>\n",
              "    <tr>\n",
              "      <th>4</th>\n",
              "      <td>Implicit</td>\n",
              "      <td>0</td>\n",
              "      <td>3</td>\n",
              "      <td>5</td>\n",
              "      <td>This is an old story</td>\n",
              "      <td>We're talking about years ago before anyone heard of asbestos having any questionable properties</td>\n",
              "      <td>3</td>\n",
              "      <td>0</td>\n",
              "    </tr>\n",
              "    <tr>\n",
              "      <th>5</th>\n",
              "      <td>Implicit</td>\n",
              "      <td>0</td>\n",
              "      <td>3</td>\n",
              "      <td>6</td>\n",
              "      <td>We're talking about years ago before anyone heard of asbestos having any questionable properties</td>\n",
              "      <td>There is no asbestos in our products now</td>\n",
              "      <td>3</td>\n",
              "      <td>1</td>\n",
              "    </tr>\n",
              "    <tr>\n",
              "      <th>6</th>\n",
              "      <td>Implicit</td>\n",
              "      <td>0</td>\n",
              "      <td>3</td>\n",
              "      <td>8</td>\n",
              "      <td>Neither Lorillard nor the researchers who studied the workers were aware of any research on smokers of the Kent cigarettes</td>\n",
              "      <td>We have no useful information on whether users are at risk</td>\n",
              "      <td>1</td>\n",
              "      <td>2</td>\n",
              "    </tr>\n",
              "    <tr>\n",
              "      <th>9</th>\n",
              "      <td>Implicit</td>\n",
              "      <td>0</td>\n",
              "      <td>3</td>\n",
              "      <td>13</td>\n",
              "      <td>Among 33 men who worked closely with the substance, 28 have died -- more than three times the expected number</td>\n",
              "      <td>Four of the five surviving workers have asbestos-related diseases, including three with recently diagnosed cancer</td>\n",
              "      <td>3</td>\n",
              "      <td>1</td>\n",
              "    </tr>\n",
              "    <tr>\n",
              "      <th>10</th>\n",
              "      <td>Implicit</td>\n",
              "      <td>0</td>\n",
              "      <td>3</td>\n",
              "      <td>14</td>\n",
              "      <td>Among 33 men who worked closely with the substance, 28 have died -- more than three times the expected number.Four of the five surviving workers have asbestos-related diseases, including three with recently diagnosed cancer</td>\n",
              "      <td>The total of 18 deaths from malignant mesothelioma, lung cancer and asbestosis was far higher than expected</td>\n",
              "      <td>3</td>\n",
              "      <td>1</td>\n",
              "    </tr>\n",
              "  </tbody>\n",
              "</table>\n",
              "</div>"
            ],
            "text/plain": [
              "    Relation  SectionNumber  FileNumber SentenceNumber  \\\n",
              "4   Implicit              0           3              5   \n",
              "5   Implicit              0           3              6   \n",
              "6   Implicit              0           3              8   \n",
              "9   Implicit              0           3             13   \n",
              "10  Implicit              0           3             14   \n",
              "\n",
              "                                                                                                                                                                                                                                 S1  \\\n",
              "4                                                                                                                                                                                                              This is an old story   \n",
              "5                                                                                                                                  We're talking about years ago before anyone heard of asbestos having any questionable properties   \n",
              "6                                                                                                        Neither Lorillard nor the researchers who studied the workers were aware of any research on smokers of the Kent cigarettes   \n",
              "9                                                                                                                     Among 33 men who worked closely with the substance, 28 have died -- more than three times the expected number   \n",
              "10  Among 33 men who worked closely with the substance, 28 have died -- more than three times the expected number.Four of the five surviving workers have asbestos-related diseases, including three with recently diagnosed cancer   \n",
              "\n",
              "                                                                                                                   S2  \\\n",
              "4                    We're talking about years ago before anyone heard of asbestos having any questionable properties   \n",
              "5                                                                            There is no asbestos in our products now   \n",
              "6                                                          We have no useful information on whether users are at risk   \n",
              "9   Four of the five surviving workers have asbestos-related diseases, including three with recently diagnosed cancer   \n",
              "10        The total of 18 deaths from malignant mesothelioma, lung cancer and asbestosis was far higher than expected   \n",
              "\n",
              "    Level 1  Level 2  \n",
              "4         3        0  \n",
              "5         3        1  \n",
              "6         1        2  \n",
              "9         3        1  \n",
              "10        3        1  "
            ]
          },
          "execution_count": 10,
          "metadata": {},
          "output_type": "execute_result"
        }
      ],
      "source": [
        "# my_data_transformed['S1'] = my_data_transformed['S1'].apply(remove_stopwords)\n",
        "# my_data_transformed['S2'] = my_data_transformed['S2'].apply(remove_stopwords)\n",
        "my_data_transformed.head()"
      ]
    },
    {
      "cell_type": "code",
      "execution_count": 11,
      "metadata": {
        "colab": {
          "base_uri": "https://localhost:8080/",
          "height": 320
        },
        "id": "HPSHt4fGIlau",
        "outputId": "d0aa1a3c-f084-417e-c1f3-cf2689f4da99"
      },
      "outputs": [
        {
          "data": {
            "text/html": [
              "<div>\n",
              "<style scoped>\n",
              "    .dataframe tbody tr th:only-of-type {\n",
              "        vertical-align: middle;\n",
              "    }\n",
              "\n",
              "    .dataframe tbody tr th {\n",
              "        vertical-align: top;\n",
              "    }\n",
              "\n",
              "    .dataframe thead th {\n",
              "        text-align: right;\n",
              "    }\n",
              "</style>\n",
              "<table border=\"1\" class=\"dataframe\">\n",
              "  <thead>\n",
              "    <tr style=\"text-align: right;\">\n",
              "      <th></th>\n",
              "      <th>SectionNumber</th>\n",
              "      <th>FileNumber</th>\n",
              "      <th>SentenceNumber</th>\n",
              "      <th>S1</th>\n",
              "      <th>S2</th>\n",
              "      <th>Level 1</th>\n",
              "      <th>Level 2</th>\n",
              "    </tr>\n",
              "  </thead>\n",
              "  <tbody>\n",
              "    <tr>\n",
              "      <th>0</th>\n",
              "      <td>0</td>\n",
              "      <td>3</td>\n",
              "      <td>5</td>\n",
              "      <td>This is an old story</td>\n",
              "      <td>We're talking about years ago before anyone heard of asbestos having any questionable properties</td>\n",
              "      <td>3</td>\n",
              "      <td>0</td>\n",
              "    </tr>\n",
              "    <tr>\n",
              "      <th>1</th>\n",
              "      <td>0</td>\n",
              "      <td>3</td>\n",
              "      <td>6</td>\n",
              "      <td>We're talking about years ago before anyone heard of asbestos having any questionable properties</td>\n",
              "      <td>There is no asbestos in our products now</td>\n",
              "      <td>3</td>\n",
              "      <td>1</td>\n",
              "    </tr>\n",
              "    <tr>\n",
              "      <th>2</th>\n",
              "      <td>0</td>\n",
              "      <td>3</td>\n",
              "      <td>8</td>\n",
              "      <td>Neither Lorillard nor the researchers who studied the workers were aware of any research on smokers of the Kent cigarettes</td>\n",
              "      <td>We have no useful information on whether users are at risk</td>\n",
              "      <td>1</td>\n",
              "      <td>2</td>\n",
              "    </tr>\n",
              "    <tr>\n",
              "      <th>3</th>\n",
              "      <td>0</td>\n",
              "      <td>3</td>\n",
              "      <td>13</td>\n",
              "      <td>Among 33 men who worked closely with the substance, 28 have died -- more than three times the expected number</td>\n",
              "      <td>Four of the five surviving workers have asbestos-related diseases, including three with recently diagnosed cancer</td>\n",
              "      <td>3</td>\n",
              "      <td>1</td>\n",
              "    </tr>\n",
              "    <tr>\n",
              "      <th>4</th>\n",
              "      <td>0</td>\n",
              "      <td>3</td>\n",
              "      <td>14</td>\n",
              "      <td>Among 33 men who worked closely with the substance, 28 have died -- more than three times the expected number.Four of the five surviving workers have asbestos-related diseases, including three with recently diagnosed cancer</td>\n",
              "      <td>The total of 18 deaths from malignant mesothelioma, lung cancer and asbestosis was far higher than expected</td>\n",
              "      <td>3</td>\n",
              "      <td>1</td>\n",
              "    </tr>\n",
              "  </tbody>\n",
              "</table>\n",
              "</div>"
            ],
            "text/plain": [
              "   SectionNumber  FileNumber SentenceNumber  \\\n",
              "0              0           3              5   \n",
              "1              0           3              6   \n",
              "2              0           3              8   \n",
              "3              0           3             13   \n",
              "4              0           3             14   \n",
              "\n",
              "                                                                                                                                                                                                                                S1  \\\n",
              "0                                                                                                                                                                                                             This is an old story   \n",
              "1                                                                                                                                 We're talking about years ago before anyone heard of asbestos having any questionable properties   \n",
              "2                                                                                                       Neither Lorillard nor the researchers who studied the workers were aware of any research on smokers of the Kent cigarettes   \n",
              "3                                                                                                                    Among 33 men who worked closely with the substance, 28 have died -- more than three times the expected number   \n",
              "4  Among 33 men who worked closely with the substance, 28 have died -- more than three times the expected number.Four of the five surviving workers have asbestos-related diseases, including three with recently diagnosed cancer   \n",
              "\n",
              "                                                                                                                  S2  \\\n",
              "0                   We're talking about years ago before anyone heard of asbestos having any questionable properties   \n",
              "1                                                                           There is no asbestos in our products now   \n",
              "2                                                         We have no useful information on whether users are at risk   \n",
              "3  Four of the five surviving workers have asbestos-related diseases, including three with recently diagnosed cancer   \n",
              "4        The total of 18 deaths from malignant mesothelioma, lung cancer and asbestosis was far higher than expected   \n",
              "\n",
              "   Level 1  Level 2  \n",
              "0        3        0  \n",
              "1        3        1  \n",
              "2        1        2  \n",
              "3        3        1  \n",
              "4        3        1  "
            ]
          },
          "execution_count": 11,
          "metadata": {},
          "output_type": "execute_result"
        }
      ],
      "source": [
        "# drop 'Relation' column from my_data_transformed\n",
        "my_data_transformed = my_data_transformed.drop(['Relation'], axis=1)\n",
        "\n",
        "# re-index my_data_transformed\n",
        "my_data_transformed = my_data_transformed.reset_index(drop=True)\n",
        "\n",
        "my_data_transformed[:5]"
      ]
    },
    {
      "attachments": {},
      "cell_type": "markdown",
      "metadata": {
        "id": "9-HGTX6gI4b1"
      },
      "source": [
        "### Apply one of the transforms"
      ]
    },
    {
      "cell_type": "code",
      "execution_count": 12,
      "metadata": {
        "id": "PrEkr2ywIu9R"
      },
      "outputs": [],
      "source": [
        "# filtered_df = EWN(my_data_transformed, n=1)\n",
        "# filtered_df = PSRN(my_data_transformed, n=1)\n",
        "filtered_df = direct_neighbors(my_data_transformed, n=1)"
      ]
    },
    {
      "cell_type": "code",
      "execution_count": 13,
      "metadata": {
        "colab": {
          "base_uri": "https://localhost:8080/"
        },
        "id": "Vqby-sBuJHMY",
        "outputId": "c759ac16-0350-4ad6-910f-81b2424db328"
      },
      "outputs": [
        {
          "data": {
            "text/plain": [
              "2583"
            ]
          },
          "execution_count": 13,
          "metadata": {},
          "output_type": "execute_result"
        }
      ],
      "source": [
        "len(filtered_df)"
      ]
    },
    {
      "cell_type": "code",
      "execution_count": 14,
      "metadata": {
        "colab": {
          "base_uri": "https://localhost:8080/",
          "height": 493
        },
        "id": "eK0JG-J1JCG6",
        "outputId": "8f4b21c8-fd9a-4db3-e6fe-f5f6b8759d4e"
      },
      "outputs": [
        {
          "data": {
            "text/html": [
              "<div>\n",
              "<style scoped>\n",
              "    .dataframe tbody tr th:only-of-type {\n",
              "        vertical-align: middle;\n",
              "    }\n",
              "\n",
              "    .dataframe tbody tr th {\n",
              "        vertical-align: top;\n",
              "    }\n",
              "\n",
              "    .dataframe thead th {\n",
              "        text-align: right;\n",
              "    }\n",
              "</style>\n",
              "<table border=\"1\" class=\"dataframe\">\n",
              "  <thead>\n",
              "    <tr style=\"text-align: right;\">\n",
              "      <th></th>\n",
              "      <th>SectionNumber</th>\n",
              "      <th>FileNumber</th>\n",
              "      <th>SentenceNumber</th>\n",
              "      <th>S1</th>\n",
              "      <th>S2</th>\n",
              "      <th>Level 1</th>\n",
              "      <th>Level 2</th>\n",
              "    </tr>\n",
              "  </thead>\n",
              "  <tbody>\n",
              "    <tr>\n",
              "      <th>3</th>\n",
              "      <td>0</td>\n",
              "      <td>3</td>\n",
              "      <td>13</td>\n",
              "      <td>&lt;s1&gt;Among 33 men who worked closely with the substance, 28 have died -- more than three times the expected number&lt;/s1&gt;</td>\n",
              "      <td>&lt;s2&gt;Four of the five surviving workers have asbestos-related diseases, including three with recently diagnosed cancer&lt;/s2&gt; &lt;s2&gt;Among 33 men who worked closely with the substance, 28 have died -- more than three times the expected number.Four of the five surviving workers have asbestos-related diseases, including three with recently diagnosed cancer&lt;/s2&gt;</td>\n",
              "      <td>3</td>\n",
              "      <td>1</td>\n",
              "    </tr>\n",
              "    <tr>\n",
              "      <th>4</th>\n",
              "      <td>0</td>\n",
              "      <td>3</td>\n",
              "      <td>14</td>\n",
              "      <td>&lt;s1&gt;Four of the five surviving workers have asbestos-related diseases, including three with recently diagnosed cancer&lt;/s1&gt; &lt;s1&gt;Among 33 men who worked closely with the substance, 28 have died -- more than three times the expected number.Four of the five surviving workers have asbestos-related diseases, including three with recently diagnosed cancer&lt;/s1&gt;</td>\n",
              "      <td>&lt;s2&gt;The total of 18 deaths from malignant mesothelioma, lung cancer and asbestosis was far higher than expected&lt;/s2&gt;</td>\n",
              "      <td>3</td>\n",
              "      <td>1</td>\n",
              "    </tr>\n",
              "    <tr>\n",
              "      <th>23</th>\n",
              "      <td>0</td>\n",
              "      <td>12</td>\n",
              "      <td>4</td>\n",
              "      <td>&lt;s1&gt;Newsweek's ad rates would increase 5% in January&lt;/s1&gt;</td>\n",
              "      <td>&lt;s2&gt;A full, four-color page in Newsweek will cost $100,980&lt;/s2&gt; &lt;s2&gt;Newsweek's ad rates would increase 5% in January.A full, four-color page in Newsweek will cost $100,980&lt;/s2&gt;</td>\n",
              "      <td>3</td>\n",
              "      <td>0</td>\n",
              "    </tr>\n",
              "    <tr>\n",
              "      <th>24</th>\n",
              "      <td>0</td>\n",
              "      <td>12</td>\n",
              "      <td>5</td>\n",
              "      <td>&lt;s1&gt;A full, four-color page in Newsweek will cost $100,980&lt;/s1&gt; &lt;s1&gt;Newsweek's ad rates would increase 5% in January.A full, four-color page in Newsweek will cost $100,980&lt;/s1&gt;</td>\n",
              "      <td>&lt;s2&gt;In mid-October, Time magazine lowered its guaranteed circulation rate base for 1990 while not increasing ad page rates; with a lower circulation base, Time's ad rate will be effectively 7.5% higher per subscriber; a full page in Time costs about $120,000&lt;/s2&gt;</td>\n",
              "      <td>2</td>\n",
              "      <td>3</td>\n",
              "    </tr>\n",
              "    <tr>\n",
              "      <th>25</th>\n",
              "      <td>0</td>\n",
              "      <td>12</td>\n",
              "      <td>5</td>\n",
              "      <td>&lt;s1&gt;In mid-October, Time magazine lowered its guaranteed circulation rate base for 1990 while not increasing ad page rates&lt;/s1&gt;</td>\n",
              "      <td>&lt;s2&gt;with a lower circulation base, Time's ad rate will be effectively 7.5% higher per subscriber&lt;/s2&gt; &lt;s2&gt;Newsweek's ad rates would increase 5% in January.A full, four-color page in Newsweek will cost $100,980.In mid-October, Time magazine lowered its guaranteed circulation rate base for 1990 while not increasing ad page rates; with a lower circulation base, Time's ad rate will be effectively 7.5% higher per subscriber; a full page in Time costs about $120,000&lt;/s2&gt;</td>\n",
              "      <td>1</td>\n",
              "      <td>2</td>\n",
              "    </tr>\n",
              "  </tbody>\n",
              "</table>\n",
              "</div>"
            ],
            "text/plain": [
              "    SectionNumber  FileNumber SentenceNumber  \\\n",
              "3               0           3             13   \n",
              "4               0           3             14   \n",
              "23              0          12              4   \n",
              "24              0          12              5   \n",
              "25              0          12              5   \n",
              "\n",
              "                                                                                                                                                                                                                                                                                                                                                                     S1  \\\n",
              "3                                                                                                                                                                                                                                                <s1>Among 33 men who worked closely with the substance, 28 have died -- more than three times the expected number</s1>   \n",
              "4   <s1>Four of the five surviving workers have asbestos-related diseases, including three with recently diagnosed cancer</s1> <s1>Among 33 men who worked closely with the substance, 28 have died -- more than three times the expected number.Four of the five surviving workers have asbestos-related diseases, including three with recently diagnosed cancer</s1>   \n",
              "23                                                                                                                                                                                                                                                                                                            <s1>Newsweek's ad rates would increase 5% in January</s1>   \n",
              "24                                                                                                                                                                                     <s1>A full, four-color page in Newsweek will cost $100,980</s1> <s1>Newsweek's ad rates would increase 5% in January.A full, four-color page in Newsweek will cost $100,980</s1>   \n",
              "25                                                                                                                                                                                                                                      <s1>In mid-October, Time magazine lowered its guaranteed circulation rate base for 1990 while not increasing ad page rates</s1>   \n",
              "\n",
              "                                                                                                                                                                                                                                                                                                                                                                                                                                                                                       S2  \\\n",
              "3                                                                                                                     <s2>Four of the five surviving workers have asbestos-related diseases, including three with recently diagnosed cancer</s2> <s2>Among 33 men who worked closely with the substance, 28 have died -- more than three times the expected number.Four of the five surviving workers have asbestos-related diseases, including three with recently diagnosed cancer</s2>   \n",
              "4                                                                                                                                                                                                                                                                                                                                                                    <s2>The total of 18 deaths from malignant mesothelioma, lung cancer and asbestosis was far higher than expected</s2>   \n",
              "23                                                                                                                                                                                                                                                                                                       <s2>A full, four-color page in Newsweek will cost $100,980</s2> <s2>Newsweek's ad rates would increase 5% in January.A full, four-color page in Newsweek will cost $100,980</s2>   \n",
              "24                                                                                                                                                                                                                <s2>In mid-October, Time magazine lowered its guaranteed circulation rate base for 1990 while not increasing ad page rates; with a lower circulation base, Time's ad rate will be effectively 7.5% higher per subscriber; a full page in Time costs about $120,000</s2>   \n",
              "25  <s2>with a lower circulation base, Time's ad rate will be effectively 7.5% higher per subscriber</s2> <s2>Newsweek's ad rates would increase 5% in January.A full, four-color page in Newsweek will cost $100,980.In mid-October, Time magazine lowered its guaranteed circulation rate base for 1990 while not increasing ad page rates; with a lower circulation base, Time's ad rate will be effectively 7.5% higher per subscriber; a full page in Time costs about $120,000</s2>   \n",
              "\n",
              "    Level 1  Level 2  \n",
              "3         3        1  \n",
              "4         3        1  \n",
              "23        3        0  \n",
              "24        2        3  \n",
              "25        1        2  "
            ]
          },
          "execution_count": 14,
          "metadata": {},
          "output_type": "execute_result"
        }
      ],
      "source": [
        "filtered_df.head()"
      ]
    },
    {
      "attachments": {},
      "cell_type": "markdown",
      "metadata": {
        "id": "Tf3coPFzKPW8"
      },
      "source": [
        "# Training Time!\n",
        "\n",
        "Model: `distilbert-base-uncased-finetuned-sst-2-english`\n",
        "\n",
        "per_device_train_batch_size: `16`\n",
        "\n",
        "per_device_eval_batch_size: `16`\n",
        "\n",
        "num_train_epochs: `10`\n",
        "\n",
        "seed: `42`\n",
        "\n",
        "learning_rate: `2e-5`"
      ]
    },
    {
      "cell_type": "code",
      "execution_count": 19,
      "metadata": {},
      "outputs": [],
      "source": [
        "# SententialNeighbors class is a custom dataset modeled from https://huggingface.co/transformers/v3.2.0/custom_datasets.html it inherits from torch.utils.data.Dataset\n",
        "class SententialNeighbors(torch.utils.data.Dataset):\n",
        "    def __init__(self, encodings, labels):\n",
        "        # init method takes in encodings and labels\n",
        "        self.encodings = encodings\n",
        "        self.labels = labels\n",
        "\n",
        "    def __len__(self):\n",
        "        # len method returns the length of the dataset for embedding\n",
        "        return len(self.labels)\n",
        "    \n",
        "    def __getitem__(self, idx):\n",
        "        # getitem method returns the dictionary of encodings and their labels\n",
        "        item = {key: torch.tensor(self.encodings[idx][key]) for key in self.encodings[idx].keys()}\n",
        "        item['labels'] = torch.tensor(self.labels[idx])\n",
        "        return item"
      ]
    },
    {
      "cell_type": "code",
      "execution_count": 15,
      "metadata": {
        "id": "vR98v4LeKf8p"
      },
      "outputs": [],
      "source": [
        "# Select our model and tokenizer\n",
        "distilBERT = \"distilbert-base-uncased-finetuned-sst-2-english\"\n",
        "tokenizer = AutoTokenizer.from_pretrained(distilBERT)\n",
        "\n",
        "# Split data into train and validation sets (80/20 split)\n",
        "train, test = train_test_split(filtered_df, test_size=0.2, random_state=42)\n",
        "\n",
        "# Encode the train and validation data\n",
        "train_encodings = encode(train, tokenizer)\n",
        "test_encodings = encode(test, tokenizer)\n",
        "\n",
        "# Create our custom PyTorch dataset from the encodings we made (sentences and labels)\n",
        "train_dataset = SententialNeighbors(train_encodings, train['Level 1'])\n",
        "test_dataset = SententialNeighbors(test_encodings, test['Level 1'])"
      ]
    },
    {
      "cell_type": "code",
      "execution_count": 16,
      "metadata": {
        "id": "px28e_e4KkBv"
      },
      "outputs": [
        {
          "name": "stderr",
          "output_type": "stream",
          "text": [
            "Some weights of DistilBertForSequenceClassification were not initialized from the model checkpoint at distilbert-base-uncased-finetuned-sst-2-english and are newly initialized because the shapes did not match:\n",
            "- classifier.weight: found shape torch.Size([2, 768]) in the checkpoint and torch.Size([4, 768]) in the model instantiated\n",
            "- classifier.bias: found shape torch.Size([2]) in the checkpoint and torch.Size([4]) in the model instantiated\n",
            "You should probably TRAIN this model on a down-stream task to be able to use it for predictions and inference.\n"
          ]
        }
      ],
      "source": [
        "# Set up our model for a sequence classification task (we are using distilBERT)\n",
        "model = AutoModelForSequenceClassification.from_pretrained(\n",
        "    distilBERT, num_labels=4, ignore_mismatched_sizes=True\n",
        ")\n",
        "\n",
        "# We want to adapt the model to our task, the Linear layer can help us set the output dimensions (4, one per each label)\n",
        "# ref: https://discuss.huggingface.co/t/adding-linear-layer-to-transformer-model-save-pretrained-and-load-pretrained/15548\n",
        "model.classifier = torch.nn.Linear(model.config.dim, 4)\n",
        "\n",
        "# Set up the training arguments\n",
        "training_args = TrainingArguments(\n",
        "    output_dir=\"../results\",\n",
        "    evaluation_strategy=\"epoch\",\n",
        "    save_strategy=\"epoch\",\n",
        "    per_device_train_batch_size=16,\n",
        "    per_device_eval_batch_size=16,\n",
        "    num_train_epochs=10,\n",
        "    seed=42,\n",
        "    learning_rate=2e-5,\n",
        ")"
      ]
    },
    {
      "cell_type": "code",
      "execution_count": null,
      "metadata": {
        "id": "Si03fOVeKlLr"
      },
      "outputs": [],
      "source": [
        "trainer = Trainer(\n",
        "    model=model,\n",
        "    args=training_args,\n",
        "    train_dataset=train_dataset,\n",
        "    eval_dataset=test_dataset,\n",
        "    compute_metrics=evaluate,\n",
        ")\n",
        "\n",
        "# Train the model\n",
        "trainer.train()"
      ]
    },
    {
      "cell_type": "markdown",
      "metadata": {
        "id": "p7J--Y0kKw9G"
      },
      "source": [
        "### Save results to .csv!"
      ]
    },
    {
      "cell_type": "code",
      "execution_count": null,
      "metadata": {
        "id": "PtIz7mYqKne1"
      },
      "outputs": [],
      "source": [
        "# Convert trainer.state.log_history to a DataFrame\n",
        "results = pd.DataFrame(trainer.state.log_history)\n",
        "\n",
        "# results to csv\n",
        "results.to_csv('model_15_tags_baseline.csv')"
      ]
    }
  ],
  "metadata": {
    "colab": {
      "provenance": []
    },
    "kernelspec": {
      "display_name": "Python 3",
      "name": "python3"
    },
    "language_info": {
      "codemirror_mode": {
        "name": "ipython",
        "version": 3
      },
      "file_extension": ".py",
      "mimetype": "text/x-python",
      "name": "python",
      "nbconvert_exporter": "python",
      "pygments_lexer": "ipython3",
      "version": "3.9.7"
    }
  },
  "nbformat": 4,
  "nbformat_minor": 0
}
